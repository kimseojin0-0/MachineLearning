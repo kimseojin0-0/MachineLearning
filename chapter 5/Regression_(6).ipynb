{
  "nbformat": 4,
  "nbformat_minor": 0,
  "metadata": {
    "colab": {
      "provenance": []
    },
    "kernelspec": {
      "name": "python3",
      "display_name": "Python 3"
    },
    "language_info": {
      "name": "python"
    }
  },
  "cells": [
    {
      "cell_type": "markdown",
      "source": [
        "### 회귀 트리\n",
        "\n",
        "지금까지 알아 본 선형 회귀는 회귀 계수의 관계를 모두 선형으로 가정하는 방식이다\n",
        "\n",
        "비선형 회귀 역시 비선형 회귀 함수를 통해 결과값을 예측한다\n",
        "\n",
        "머신러닝 기반의 회귀는 회귀 계수를 기반으로 하는 최적 회귀 함수를 도출하는 것이 주 목표다\n",
        "\n",
        "이번에는 트리를 기반으로 하는 회귀 방식을 알아보자"
      ],
      "metadata": {
        "id": "_rIS-G2vc86x"
      }
    },
    {
      "cell_type": "markdown",
      "source": [
        "#### 트리 기반의 회귀\n",
        "\n",
        "- 회귀를 위한 트리를 생성하고 이를 기반으로 회귀 예측을 한다\n",
        "\n",
        "- 분류 트리와 크게 다르지 않지만, 리프 노드에서 예측 결정값을 만드는 과정에서 차이가 있다\n",
        "\n",
        "   → 분류 트리가 특정 레이블을 결정하는 것과 달리 회귀 트리는 리프 노드가 속한 데이터값의 평균값을 구해 회귀 예측값을 계산한다\n",
        "\n",
        "- 결정 트리, 랜덤 포레스트, GBM, LightGBM, XGBoost 등과 같은 트리 기반 알고리즘은 분류뿐만 아니라 회귀도 지원한다 >> CART"
      ],
      "metadata": {
        "id": "v_0wfsA5e_Ch"
      }
    },
    {
      "cell_type": "markdown",
      "source": [
        "사이킷런 랜덤포레스트 회귀 트리 RandomForestRegressor로 보스턴 주택 가격 예측하기"
      ],
      "metadata": {
        "id": "RvMafEjkqKCO"
      }
    },
    {
      "cell_type": "code",
      "execution_count": 2,
      "metadata": {
        "colab": {
          "base_uri": "https://localhost:8080/",
          "height": 423
        },
        "id": "OgyDXF8Hc5pp",
        "outputId": "ba0c06fd-e567-4618-b30d-ceb02cdee3ef"
      },
      "outputs": [
        {
          "output_type": "execute_result",
          "data": {
            "text/plain": [
              "            ID      CRIM    ZN  INDUS  CHAS    NOX     RM    AGE     DIS  \\\n",
              "0    TRAIN_000   0.04819  80.0   3.64   0.0  0.392  6.108   32.0  9.2203   \n",
              "1    TRAIN_001   1.42502   0.0  19.58   0.0  0.871  6.510  100.0  1.7659   \n",
              "2    TRAIN_002   0.01778  95.0   1.47   0.0  0.403  7.135   13.9  7.6534   \n",
              "3    TRAIN_003   9.51363   0.0  18.10   0.0  0.713  6.728   94.1  2.4961   \n",
              "4    TRAIN_004   1.65660   0.0  19.58   0.0  0.871  6.122   97.3  1.6180   \n",
              "..         ...       ...   ...    ...   ...    ...    ...    ...     ...   \n",
              "450  TRAIN_450   0.33983  22.0   5.86   0.0  0.431  6.108   34.9  8.0555   \n",
              "451  TRAIN_451   3.83684   0.0  18.10   0.0  0.770  6.251   91.1  2.2955   \n",
              "452  TRAIN_452   0.20746   0.0  27.74   0.0  0.609  5.093   98.0  1.8226   \n",
              "453  TRAIN_453   0.09299   0.0  25.65   0.0  0.581  5.961   92.9  2.0869   \n",
              "454  TRAIN_454  25.94060   0.0  18.10   0.0  0.679  5.304   89.1  1.6475   \n",
              "\n",
              "      RAD    TAX  PTRATIO       B  LSTAT  MEDV  \n",
              "0     1.0  315.0     16.4  392.89   6.57  21.9  \n",
              "1     5.0  403.0     14.7  364.31   7.39  23.3  \n",
              "2     3.0  402.0     17.0  384.30   4.45  32.9  \n",
              "3    24.0  666.0     20.2    6.68  18.71  14.9  \n",
              "4     5.0  403.0     14.7  372.80  14.10  21.5  \n",
              "..    ...    ...      ...     ...    ...   ...  \n",
              "450   7.0  330.0     19.1  390.18   9.16  24.3  \n",
              "451  24.0  666.0     20.2  350.65  14.19  19.9  \n",
              "452   4.0  711.0     20.1  318.43  29.68   8.1  \n",
              "453   2.0  188.0     19.1  378.09  17.93  20.5  \n",
              "454  24.0  666.0     20.2  127.36  26.64  10.4  \n",
              "\n",
              "[455 rows x 15 columns]"
            ],
            "text/html": [
              "\n",
              "  <div id=\"df-93d8ad58-5ba1-4050-9adb-269707c56b29\">\n",
              "    <div class=\"colab-df-container\">\n",
              "      <div>\n",
              "<style scoped>\n",
              "    .dataframe tbody tr th:only-of-type {\n",
              "        vertical-align: middle;\n",
              "    }\n",
              "\n",
              "    .dataframe tbody tr th {\n",
              "        vertical-align: top;\n",
              "    }\n",
              "\n",
              "    .dataframe thead th {\n",
              "        text-align: right;\n",
              "    }\n",
              "</style>\n",
              "<table border=\"1\" class=\"dataframe\">\n",
              "  <thead>\n",
              "    <tr style=\"text-align: right;\">\n",
              "      <th></th>\n",
              "      <th>ID</th>\n",
              "      <th>CRIM</th>\n",
              "      <th>ZN</th>\n",
              "      <th>INDUS</th>\n",
              "      <th>CHAS</th>\n",
              "      <th>NOX</th>\n",
              "      <th>RM</th>\n",
              "      <th>AGE</th>\n",
              "      <th>DIS</th>\n",
              "      <th>RAD</th>\n",
              "      <th>TAX</th>\n",
              "      <th>PTRATIO</th>\n",
              "      <th>B</th>\n",
              "      <th>LSTAT</th>\n",
              "      <th>MEDV</th>\n",
              "    </tr>\n",
              "  </thead>\n",
              "  <tbody>\n",
              "    <tr>\n",
              "      <th>0</th>\n",
              "      <td>TRAIN_000</td>\n",
              "      <td>0.04819</td>\n",
              "      <td>80.0</td>\n",
              "      <td>3.64</td>\n",
              "      <td>0.0</td>\n",
              "      <td>0.392</td>\n",
              "      <td>6.108</td>\n",
              "      <td>32.0</td>\n",
              "      <td>9.2203</td>\n",
              "      <td>1.0</td>\n",
              "      <td>315.0</td>\n",
              "      <td>16.4</td>\n",
              "      <td>392.89</td>\n",
              "      <td>6.57</td>\n",
              "      <td>21.9</td>\n",
              "    </tr>\n",
              "    <tr>\n",
              "      <th>1</th>\n",
              "      <td>TRAIN_001</td>\n",
              "      <td>1.42502</td>\n",
              "      <td>0.0</td>\n",
              "      <td>19.58</td>\n",
              "      <td>0.0</td>\n",
              "      <td>0.871</td>\n",
              "      <td>6.510</td>\n",
              "      <td>100.0</td>\n",
              "      <td>1.7659</td>\n",
              "      <td>5.0</td>\n",
              "      <td>403.0</td>\n",
              "      <td>14.7</td>\n",
              "      <td>364.31</td>\n",
              "      <td>7.39</td>\n",
              "      <td>23.3</td>\n",
              "    </tr>\n",
              "    <tr>\n",
              "      <th>2</th>\n",
              "      <td>TRAIN_002</td>\n",
              "      <td>0.01778</td>\n",
              "      <td>95.0</td>\n",
              "      <td>1.47</td>\n",
              "      <td>0.0</td>\n",
              "      <td>0.403</td>\n",
              "      <td>7.135</td>\n",
              "      <td>13.9</td>\n",
              "      <td>7.6534</td>\n",
              "      <td>3.0</td>\n",
              "      <td>402.0</td>\n",
              "      <td>17.0</td>\n",
              "      <td>384.30</td>\n",
              "      <td>4.45</td>\n",
              "      <td>32.9</td>\n",
              "    </tr>\n",
              "    <tr>\n",
              "      <th>3</th>\n",
              "      <td>TRAIN_003</td>\n",
              "      <td>9.51363</td>\n",
              "      <td>0.0</td>\n",
              "      <td>18.10</td>\n",
              "      <td>0.0</td>\n",
              "      <td>0.713</td>\n",
              "      <td>6.728</td>\n",
              "      <td>94.1</td>\n",
              "      <td>2.4961</td>\n",
              "      <td>24.0</td>\n",
              "      <td>666.0</td>\n",
              "      <td>20.2</td>\n",
              "      <td>6.68</td>\n",
              "      <td>18.71</td>\n",
              "      <td>14.9</td>\n",
              "    </tr>\n",
              "    <tr>\n",
              "      <th>4</th>\n",
              "      <td>TRAIN_004</td>\n",
              "      <td>1.65660</td>\n",
              "      <td>0.0</td>\n",
              "      <td>19.58</td>\n",
              "      <td>0.0</td>\n",
              "      <td>0.871</td>\n",
              "      <td>6.122</td>\n",
              "      <td>97.3</td>\n",
              "      <td>1.6180</td>\n",
              "      <td>5.0</td>\n",
              "      <td>403.0</td>\n",
              "      <td>14.7</td>\n",
              "      <td>372.80</td>\n",
              "      <td>14.10</td>\n",
              "      <td>21.5</td>\n",
              "    </tr>\n",
              "    <tr>\n",
              "      <th>...</th>\n",
              "      <td>...</td>\n",
              "      <td>...</td>\n",
              "      <td>...</td>\n",
              "      <td>...</td>\n",
              "      <td>...</td>\n",
              "      <td>...</td>\n",
              "      <td>...</td>\n",
              "      <td>...</td>\n",
              "      <td>...</td>\n",
              "      <td>...</td>\n",
              "      <td>...</td>\n",
              "      <td>...</td>\n",
              "      <td>...</td>\n",
              "      <td>...</td>\n",
              "      <td>...</td>\n",
              "    </tr>\n",
              "    <tr>\n",
              "      <th>450</th>\n",
              "      <td>TRAIN_450</td>\n",
              "      <td>0.33983</td>\n",
              "      <td>22.0</td>\n",
              "      <td>5.86</td>\n",
              "      <td>0.0</td>\n",
              "      <td>0.431</td>\n",
              "      <td>6.108</td>\n",
              "      <td>34.9</td>\n",
              "      <td>8.0555</td>\n",
              "      <td>7.0</td>\n",
              "      <td>330.0</td>\n",
              "      <td>19.1</td>\n",
              "      <td>390.18</td>\n",
              "      <td>9.16</td>\n",
              "      <td>24.3</td>\n",
              "    </tr>\n",
              "    <tr>\n",
              "      <th>451</th>\n",
              "      <td>TRAIN_451</td>\n",
              "      <td>3.83684</td>\n",
              "      <td>0.0</td>\n",
              "      <td>18.10</td>\n",
              "      <td>0.0</td>\n",
              "      <td>0.770</td>\n",
              "      <td>6.251</td>\n",
              "      <td>91.1</td>\n",
              "      <td>2.2955</td>\n",
              "      <td>24.0</td>\n",
              "      <td>666.0</td>\n",
              "      <td>20.2</td>\n",
              "      <td>350.65</td>\n",
              "      <td>14.19</td>\n",
              "      <td>19.9</td>\n",
              "    </tr>\n",
              "    <tr>\n",
              "      <th>452</th>\n",
              "      <td>TRAIN_452</td>\n",
              "      <td>0.20746</td>\n",
              "      <td>0.0</td>\n",
              "      <td>27.74</td>\n",
              "      <td>0.0</td>\n",
              "      <td>0.609</td>\n",
              "      <td>5.093</td>\n",
              "      <td>98.0</td>\n",
              "      <td>1.8226</td>\n",
              "      <td>4.0</td>\n",
              "      <td>711.0</td>\n",
              "      <td>20.1</td>\n",
              "      <td>318.43</td>\n",
              "      <td>29.68</td>\n",
              "      <td>8.1</td>\n",
              "    </tr>\n",
              "    <tr>\n",
              "      <th>453</th>\n",
              "      <td>TRAIN_453</td>\n",
              "      <td>0.09299</td>\n",
              "      <td>0.0</td>\n",
              "      <td>25.65</td>\n",
              "      <td>0.0</td>\n",
              "      <td>0.581</td>\n",
              "      <td>5.961</td>\n",
              "      <td>92.9</td>\n",
              "      <td>2.0869</td>\n",
              "      <td>2.0</td>\n",
              "      <td>188.0</td>\n",
              "      <td>19.1</td>\n",
              "      <td>378.09</td>\n",
              "      <td>17.93</td>\n",
              "      <td>20.5</td>\n",
              "    </tr>\n",
              "    <tr>\n",
              "      <th>454</th>\n",
              "      <td>TRAIN_454</td>\n",
              "      <td>25.94060</td>\n",
              "      <td>0.0</td>\n",
              "      <td>18.10</td>\n",
              "      <td>0.0</td>\n",
              "      <td>0.679</td>\n",
              "      <td>5.304</td>\n",
              "      <td>89.1</td>\n",
              "      <td>1.6475</td>\n",
              "      <td>24.0</td>\n",
              "      <td>666.0</td>\n",
              "      <td>20.2</td>\n",
              "      <td>127.36</td>\n",
              "      <td>26.64</td>\n",
              "      <td>10.4</td>\n",
              "    </tr>\n",
              "  </tbody>\n",
              "</table>\n",
              "<p>455 rows × 15 columns</p>\n",
              "</div>\n",
              "      <button class=\"colab-df-convert\" onclick=\"convertToInteractive('df-93d8ad58-5ba1-4050-9adb-269707c56b29')\"\n",
              "              title=\"Convert this dataframe to an interactive table.\"\n",
              "              style=\"display:none;\">\n",
              "        \n",
              "  <svg xmlns=\"http://www.w3.org/2000/svg\" height=\"24px\"viewBox=\"0 0 24 24\"\n",
              "       width=\"24px\">\n",
              "    <path d=\"M0 0h24v24H0V0z\" fill=\"none\"/>\n",
              "    <path d=\"M18.56 5.44l.94 2.06.94-2.06 2.06-.94-2.06-.94-.94-2.06-.94 2.06-2.06.94zm-11 1L8.5 8.5l.94-2.06 2.06-.94-2.06-.94L8.5 2.5l-.94 2.06-2.06.94zm10 10l.94 2.06.94-2.06 2.06-.94-2.06-.94-.94-2.06-.94 2.06-2.06.94z\"/><path d=\"M17.41 7.96l-1.37-1.37c-.4-.4-.92-.59-1.43-.59-.52 0-1.04.2-1.43.59L10.3 9.45l-7.72 7.72c-.78.78-.78 2.05 0 2.83L4 21.41c.39.39.9.59 1.41.59.51 0 1.02-.2 1.41-.59l7.78-7.78 2.81-2.81c.8-.78.8-2.07 0-2.86zM5.41 20L4 18.59l7.72-7.72 1.47 1.35L5.41 20z\"/>\n",
              "  </svg>\n",
              "      </button>\n",
              "      \n",
              "  <style>\n",
              "    .colab-df-container {\n",
              "      display:flex;\n",
              "      flex-wrap:wrap;\n",
              "      gap: 12px;\n",
              "    }\n",
              "\n",
              "    .colab-df-convert {\n",
              "      background-color: #E8F0FE;\n",
              "      border: none;\n",
              "      border-radius: 50%;\n",
              "      cursor: pointer;\n",
              "      display: none;\n",
              "      fill: #1967D2;\n",
              "      height: 32px;\n",
              "      padding: 0 0 0 0;\n",
              "      width: 32px;\n",
              "    }\n",
              "\n",
              "    .colab-df-convert:hover {\n",
              "      background-color: #E2EBFA;\n",
              "      box-shadow: 0px 1px 2px rgba(60, 64, 67, 0.3), 0px 1px 3px 1px rgba(60, 64, 67, 0.15);\n",
              "      fill: #174EA6;\n",
              "    }\n",
              "\n",
              "    [theme=dark] .colab-df-convert {\n",
              "      background-color: #3B4455;\n",
              "      fill: #D2E3FC;\n",
              "    }\n",
              "\n",
              "    [theme=dark] .colab-df-convert:hover {\n",
              "      background-color: #434B5C;\n",
              "      box-shadow: 0px 1px 3px 1px rgba(0, 0, 0, 0.15);\n",
              "      filter: drop-shadow(0px 1px 2px rgba(0, 0, 0, 0.3));\n",
              "      fill: #FFFFFF;\n",
              "    }\n",
              "  </style>\n",
              "\n",
              "      <script>\n",
              "        const buttonEl =\n",
              "          document.querySelector('#df-93d8ad58-5ba1-4050-9adb-269707c56b29 button.colab-df-convert');\n",
              "        buttonEl.style.display =\n",
              "          google.colab.kernel.accessAllowed ? 'block' : 'none';\n",
              "\n",
              "        async function convertToInteractive(key) {\n",
              "          const element = document.querySelector('#df-93d8ad58-5ba1-4050-9adb-269707c56b29');\n",
              "          const dataTable =\n",
              "            await google.colab.kernel.invokeFunction('convertToInteractive',\n",
              "                                                     [key], {});\n",
              "          if (!dataTable) return;\n",
              "\n",
              "          const docLinkHtml = 'Like what you see? Visit the ' +\n",
              "            '<a target=\"_blank\" href=https://colab.research.google.com/notebooks/data_table.ipynb>data table notebook</a>'\n",
              "            + ' to learn more about interactive tables.';\n",
              "          element.innerHTML = '';\n",
              "          dataTable['output_type'] = 'display_data';\n",
              "          await google.colab.output.renderOutput(dataTable, element);\n",
              "          const docLink = document.createElement('div');\n",
              "          docLink.innerHTML = docLinkHtml;\n",
              "          element.appendChild(docLink);\n",
              "        }\n",
              "      </script>\n",
              "    </div>\n",
              "  </div>\n",
              "  "
            ]
          },
          "metadata": {},
          "execution_count": 2
        }
      ],
      "source": [
        "from sklearn.model_selection import cross_val_score\n",
        "from sklearn.ensemble import RandomForestRegressor\n",
        "import pandas as pd\n",
        "import numpy as np\n",
        "import warnings\n",
        "warnings.filterwarnings('ignore')\n",
        "\n",
        "boston_df = pd.read_csv('/content/train.csv')\n",
        "boston_df"
      ]
    },
    {
      "cell_type": "code",
      "source": [
        "y_target = boston_df['MEDV']\n",
        "X_data = boston_df.drop(['MEDV', 'ID'], axis=1, inplace=False)\n",
        "\n",
        "rf = RandomForestRegressor(random_state=0, n_estimators=1000)\n",
        "neg_mse_scores = cross_val_score(rf, X_data, y_target, scoring='neg_mean_squared_error', cv=5)\n",
        "rmse_scores = np.sqrt(-1*neg_mse_scores)\n",
        "avg_rmse = np.mean(rmse_scores)\n",
        "\n",
        "print('5 교차 검증의 개별 Negative MSE scores:', np.round(neg_mse_scores, 2))\n",
        "print('5 교차 검증의 개별 RMSE scores:', np.round(rmse_scores, 2))\n",
        "print('5 교차 검증의 평균 RMSE: {0:.3f}'.format(avg_rmse))"
      ],
      "metadata": {
        "colab": {
          "base_uri": "https://localhost:8080/"
        },
        "id": "GaniQailtmXs",
        "outputId": "efc8036c-8300-4b3a-dfe8-c0cfe0e22c58"
      },
      "execution_count": 3,
      "outputs": [
        {
          "output_type": "stream",
          "name": "stdout",
          "text": [
            "5 교차 검증의 개별 Negative MSE scores: [ -7.39  -9.32 -14.   -15.99  -9.63]\n",
            "5 교차 검증의 개별 RMSE scores: [2.72 3.05 3.74 4.   3.1 ]\n",
            "5 교차 검증의 평균 RMSE: 3.323\n"
          ]
        }
      ]
    },
    {
      "cell_type": "markdown",
      "source": [
        "다른 트리 기반 알고리즘으로도 수행해보기"
      ],
      "metadata": {
        "id": "btOuN_khuVZ_"
      }
    },
    {
      "cell_type": "code",
      "source": [
        "def get_model_cv_prediction(model, X_data, y_target):\n",
        "  neg_mse_scores = cross_val_score(model, X_data, y_target, scoring='neg_mean_squared_error', cv=5)\n",
        "  rmse_scores = np.sqrt(-1*neg_mse_scores)\n",
        "  avg_rmse = np.mean(rmse_scores)\n",
        "  print('####', model.__class__.__name__, '####')\n",
        "  print('5 교차 검증의 평균 RMSE: {0:.3f}'.format(avg_rmse))"
      ],
      "metadata": {
        "id": "3bL5ZgW3t5Uu"
      },
      "execution_count": 7,
      "outputs": []
    },
    {
      "cell_type": "code",
      "source": [
        "from sklearn.tree import DecisionTreeRegressor\n",
        "from sklearn.ensemble import GradientBoostingRegressor\n",
        "from xgboost import XGBRegressor\n",
        "from lightgbm import LGBMRegressor\n",
        "\n",
        "dt_reg = DecisionTreeRegressor(random_state=0, max_depth=4)\n",
        "rf_reg = RandomForestRegressor(random_state=0, n_estimators=1000)\n",
        "gb_reg = GradientBoostingRegressor(random_state=0, n_estimators=1000)\n",
        "xgb_reg = XGBRegressor(n_estimators=1000)\n",
        "lgb_reg = LGBMRegressor(n_estimators=1000)\n",
        "\n",
        "models = [dt_reg, rf_reg, gb_reg, xgb_reg, lgb_reg]\n",
        "for model in models:\n",
        "  get_model_cv_prediction(model, X_data, y_target)"
      ],
      "metadata": {
        "colab": {
          "base_uri": "https://localhost:8080/"
        },
        "id": "uRyOv-rIut7u",
        "outputId": "854f23a6-8dd5-487b-eb40-b2149fca2c40"
      },
      "execution_count": 8,
      "outputs": [
        {
          "output_type": "stream",
          "name": "stdout",
          "text": [
            "#### DecisionTreeRegressor ####\n",
            "5 교차 검증의 평균 RMSE: 4.233\n",
            "#### RandomForestRegressor ####\n",
            "5 교차 검증의 평균 RMSE: 3.323\n",
            "#### GradientBoostingRegressor ####\n",
            "5 교차 검증의 평균 RMSE: 3.264\n",
            "#### XGBRegressor ####\n",
            "5 교차 검증의 평균 RMSE: 3.474\n",
            "#### LGBMRegressor ####\n",
            "5 교차 검증의 평균 RMSE: 3.649\n"
          ]
        }
      ]
    },
    {
      "cell_type": "markdown",
      "source": [
        "회귀 트리 Regressor 클래스는 선형 회귀와 다른 처리 방식이므로 회귀 계수를 제공하는 coef_ 속성이 없다\n",
        "\n",
        "대신 feature_Importances_로 피처별 중요도를 시각화할 수 있다"
      ],
      "metadata": {
        "id": "_-9vjlWBwlMM"
      }
    },
    {
      "cell_type": "code",
      "source": [
        "import seaborn as sns\n",
        "\n",
        "rf_reg = RandomForestRegressor(n_estimators=1000)\n",
        "\n",
        "rf_reg.fit(X_data, y_target)\n",
        "\n",
        "feature_series = pd.Series(data=rf_reg.feature_importances_, index=X_data.columns)\n",
        "feature_series = feature_series.sort_values(ascending=False)\n",
        "sns.barplot(x=feature_series, y=feature_series.index)"
      ],
      "metadata": {
        "colab": {
          "base_uri": "https://localhost:8080/",
          "height": 448
        },
        "id": "5iUT9z2ivrwy",
        "outputId": "20cda9dc-5944-465f-fb82-c8b61d1353c6"
      },
      "execution_count": 10,
      "outputs": [
        {
          "output_type": "execute_result",
          "data": {
            "text/plain": [
              "<Axes: >"
            ]
          },
          "metadata": {},
          "execution_count": 10
        },
        {
          "output_type": "display_data",
          "data": {
            "text/plain": [
              "<Figure size 640x480 with 1 Axes>"
            ],
            "image/png": "[encoded data removed]"
          },
          "metadata": {}
        }
      ]
    },
    {
      "cell_type": "markdown",
      "source": [
        "이번에는 회귀 트리 Regressor가 어떻게 예측값을 판단하는지 선형 회귀와 비교하여 알아보자\n",
        "\n",
        "  - 2차원 평면으로 회귀 예측선을 쉽게 표현하기 위해 타겟값과 가장 밀접한 상관관계를 가지는 LSTAT 칼럼만 이용하기\n",
        "\n",
        "  - 데이터셋 개수를 100개만 샘플링하고 산점도 형태로 살펴보자\n"
      ],
      "metadata": {
        "id": "DwD4PiSizEJ4"
      }
    },
    {
      "cell_type": "code",
      "source": [
        "import matplotlib.pyplot as plt\n",
        "\n",
        "boston_df_sample = boston_df[['LSTAT', 'MEDV']]\n",
        "boston_df_sample = boston_df_sample.sample(n=100, random_state=0)\n",
        "print(boston_df_sample.shape)\n",
        "plt.figure()\n",
        "plt.scatter(boston_df_sample.LSTAT, boston_df_sample.MEDV, c='darkorange')"
      ],
      "metadata": {
        "colab": {
          "base_uri": "https://localhost:8080/",
          "height": 466
        },
        "id": "G9v33I47yy6W",
        "outputId": "0d3d56f0-25e1-40b0-ff78-e8a6bc9d2632"
      },
      "execution_count": 13,
      "outputs": [
        {
          "output_type": "stream",
          "name": "stdout",
          "text": [
            "(100, 2)\n"
          ]
        },
        {
          "output_type": "execute_result",
          "data": {
            "text/plain": [
              "<matplotlib.collections.PathCollection at 0x7f11e57ad060>"
            ]
          },
          "metadata": {},
          "execution_count": 13
        },
        {
          "output_type": "display_data",
          "data": {
            "text/plain": [
              "<Figure size 640x480 with 1 Axes>"
            ],
            "image/png": "[encoded data removed]"
          },
          "metadata": {}
        }
      ]
    },
    {
      "cell_type": "markdown",
      "source": [
        "- 결정 트리의 하이퍼 파라미터 max_depth의 크기를 변화시키면서 예측선 변화를 살펴보기"
      ],
      "metadata": {
        "id": "u-nDGy7t0_tl"
      }
    },
    {
      "cell_type": "code",
      "source": [
        "from sklearn.linear_model import LinearRegression\n",
        "\n",
        "lr_reg = LinearRegression()\n",
        "rf_reg2 = DecisionTreeRegressor(max_depth=2)\n",
        "rf_reg7 = DecisionTreeRegressor(max_depth=7)\n",
        "\n",
        "#실제 예측을 적용할 테스트용 데이터셋\n",
        "X_test = np.arange(4.5, 8.5, 0.04).reshape(-1,1)\n",
        "\n",
        "X_feature = boston_df_sample['LSTAT'].values.reshape(-1,1)\n",
        "y_target = boston_df_sample['MEDV'].values.reshape(-1,1)\n",
        "\n",
        "lr_reg.fit(X_feature, y_target)\n",
        "rf_reg2.fit(X_feature, y_target)\n",
        "rf_reg7.fit(X_feature, y_target)\n",
        "\n",
        "pred_lr = lr_reg.predict(X_test)\n",
        "pred_rf2 = rf_reg2.predict(X_test)\n",
        "pred_rf7 = rf_reg7.predict(X_test)"
      ],
      "metadata": {
        "id": "0peVOoM20szm"
      },
      "execution_count": 14,
      "outputs": []
    },
    {
      "cell_type": "code",
      "source": [
        "fig, (ax1, ax2, ax3) = plt.subplots(figsize=(10,5), ncols=3)\n",
        "\n",
        "ax1.set_title('Linear Regression')\n",
        "ax1.scatter(boston_df_sample.LSTAT, boston_df_sample.MEDV, c='darkorange')\n",
        "ax1.plot(X_test, pred_lr, label='linear', linewidth=2)\n",
        "\n",
        "ax2.set_title('Dicision Tree Regressor: \\n max_depth=2')\n",
        "ax2.scatter(boston_df_sample.LSTAT, boston_df_sample.MEDV, c='darkorange')\n",
        "ax2.plot(X_test, pred_rf2, label='max_depth:2', linewidth=2)\n",
        "\n",
        "ax3.set_title('Dicision Tree Regressor: \\n max_depth=7')\n",
        "ax3.scatter(boston_df_sample.LSTAT, boston_df_sample.MEDV, c='darkorange')\n",
        "ax3.plot(X_test, pred_rf7, label='max_depth:7', linewidth=2)"
      ],
      "metadata": {
        "colab": {
          "base_uri": "https://localhost:8080/",
          "height": 506
        },
        "id": "yn9wcghr2cWT",
        "outputId": "fc7348e6-3b27-434d-fc8a-bdb86a964491"
      },
      "execution_count": 17,
      "outputs": [
        {
          "output_type": "execute_result",
          "data": {
            "text/plain": [
              "[<matplotlib.lines.Line2D at 0x7f11e4fbe800>]"
            ]
          },
          "metadata": {},
          "execution_count": 17
        },
        {
          "output_type": "display_data",
          "data": {
            "text/plain": [
              "<Figure size 1000x500 with 3 Axes>"
            ],
            "image/png": "[encoded data removed]"
          },
          "metadata": {}
        }
      ]
    },
    {
      "cell_type": "markdown",
      "source": [
        "회귀 트리는 분할 되는 데이터 지점에 따라 브랜치를 만들면서 계단 형태로 회귀선을 만든다\n",
        "\n",
        "max_depth=7인 경우에는 학습데이터셋의 이상치 데이터로 학습하게되면서 복잡한 계단 형태의 회귀선을 만들어 과적합이 되기 쉬운 모델이 되었다"
      ],
      "metadata": {
        "id": "KDkuQCcT5XeT"
      }
    },
    {
      "cell_type": "code",
      "source": [],
      "metadata": {
        "id": "oEzN1pt248mu"
      },
      "execution_count": null,
      "outputs": []
    }
  ]
}