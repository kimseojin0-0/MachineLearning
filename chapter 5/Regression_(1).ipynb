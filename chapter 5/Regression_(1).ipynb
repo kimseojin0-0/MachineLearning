{
  "nbformat": 4,
  "nbformat_minor": 0,
  "metadata": {
    "colab": {
      "provenance": []
    },
    "kernelspec": {
      "name": "python3",
      "display_name": "Python 3"
    },
    "language_info": {
      "name": "python"
    }
  },
  "cells": [
    {
      "cell_type": "markdown",
      "source": [
        "### 회귀 Regression\n",
        "\n",
        "- 데이터값이 평균과 같은 일정한 값으로 돌아가려는 경향을 이용한 통계 기법\n",
        "\n",
        "- 여러 개의 독립변수와 한 개의 종속변수 간의 상관관계를 모델링\n"
      ],
      "metadata": {
        "id": "aAvrm5jr6Q1k"
      }
    },
    {
      "cell_type": "markdown",
      "source": [
        "#### 종류\n",
        "\n",
        "- 일반 선형 회귀: 실제값과 예측값의 차이(오류의 제곱값)를 최소화하는 직선형 회귀선을 최적화하는 방식, 규제를 적용하지 않음\n",
        "\n",
        "- 릿지 회귀: 선형 회귀에 L2규제를 추가한 모델(회귀계수값을 작게 만드는)\n",
        "\\\n",
        "- 라쏘 회귀: 선형 회귀에 L1규제를 적용한 방식(피처가 선택되지 않게 만드는)\n",
        "\n",
        "- 엘라스틱넷 회귀: 선형 회귀에 L1, L2규제를 함께 결합한 모델(L1으로 피처 개수를 줄임과 동시에 L2로 계수값을 조절)\n",
        "\n",
        "- 로지스틱 회귀: 회귀라는 이름이 붙었지만, 강력한 분류 알고리즘. 이진 분류뿐만 아니라 텍스트 분류같은 영역에서도 뛰어남"
      ],
      "metadata": {
        "id": "nwXn_1u-8tVf"
      }
    },
    {
      "cell_type": "markdown",
      "source": [
        "> RSS, 오차제곱합을 최소로 하는 회귀 계수를 학습을 통해 찾는 것이 머신러닝 기반 회귀 학습의 핵심이다"
      ],
      "metadata": {
        "id": "ljaL6H2C8vku"
      }
    },
    {
      "cell_type": "markdown",
      "source": [
        "#### 경사하강법 Gradient Descent\n",
        "\n",
        "- 회귀에서 RSS는 비용이며 w 변수로 구성되는 RSS를 비용 함수라고 한다\n",
        "\n",
        "- 점진적으로 반복적인 계산을 통해 바용 함수가 최소가 되는 W 파라미터를 구하는 것\n",
        "\n",
        "- 경사하강법은 반복적으로 비용 함수의 반환값, 즉 예측값과 실제값의 차이가 작아지는 방향성을 가지고 W 파라미터를 보정해나감\n",
        "\n",
        "<일반적인 프로세스>\n",
        "\n",
        "1. 회귀 계수인 w0, w1을 임의의 값으로 설정하고 첫 비용 함수의 값을 계산한다\n",
        "\n",
        "2. w1을 w1 + η * 2/N∑Xi * (실제값-예측값), w0를 w0 + η * 2/N∑Xi * (실제값-예측값)으로 업데이트한 후 다시 비용 함수의 값을 계산한다\n",
        "\n",
        "3. 비용 함수가 감소하는 방향으로 주어진 횟수만큼 2단계를 반복하면서 w1과 w0을 업데이트한다"
      ],
      "metadata": {
        "id": "hvXVYAOW_DzT"
      }
    },
    {
      "cell_type": "markdown",
      "source": [
        "#### 경사하강법 코드로 구현하기"
      ],
      "metadata": {
        "id": "42fFV77t1fe1"
      }
    },
    {
      "cell_type": "code",
      "execution_count": 1,
      "metadata": {
        "id": "Jx5VJxSK5vXk",
        "colab": {
          "base_uri": "https://localhost:8080/",
          "height": 448
        },
        "outputId": "9241059e-3605-4e6b-f723-3599aac1ed82"
      },
      "outputs": [
        {
          "output_type": "execute_result",
          "data": {
            "text/plain": [
              "<matplotlib.collections.PathCollection at 0x7f3ce02045e0>"
            ]
          },
          "metadata": {},
          "execution_count": 1
        },
        {
          "output_type": "display_data",
          "data": {
            "text/plain": [
              "<Figure size 640x480 with 1 Axes>"
            ],
            "image/png": "[encoded data removed]"
          },
          "metadata": {}
        }
      ],
      "source": [
        "import numpy as np\n",
        "import matplotlib.pyplot as plt\n",
        "\n",
        "np.random.seed(0)\n",
        "\n",
        "# y = 4x + 6을 근사(w1=4, w0=6)하기 위한 100개의 데이터셋, 임의의 값은 노이즈를 위해 만듬\n",
        "X = 2 * np.random.rand(100, 1)\n",
        "y = 6 + 4 * X + np.random.rand(100, 1)\n",
        "\n",
        "#산점도 시각화\n",
        "plt.scatter(X, y)"
      ]
    },
    {
      "cell_type": "code",
      "source": [
        "#비용 함수 정의\n",
        "def get_cost(y, y_pred):\n",
        "  N = len(y)\n",
        "  cost = np.sum(np.square(y - y_pred)) / N\n",
        "  return cost"
      ],
      "metadata": {
        "id": "EWJUxcJj3YrR"
      },
      "execution_count": 7,
      "outputs": []
    },
    {
      "cell_type": "code",
      "source": [
        "#get_weight_updates() 함수를 생성해서 입력배열 X에 대한 예측값을 np.dot() 내적 연산을 통해 구해주기\n",
        "\n",
        "def get_weight_updates(w1, w0, X, y, learning_rate=0.01):\n",
        "  N = len(y)\n",
        "  #0으로 초기화\n",
        "  w1_update = np.zeros_like(w1)\n",
        "  w0_update = np.zeros_like(w0)\n",
        "  #예측 배열 계산하고 예측과 실제값의 차이 계산\n",
        "  y_pred = np.dot(X, w1.T) + w0\n",
        "  diff = y - y_pred\n",
        "\n",
        "  #w0_update를 dot 행렬 연산으로 구하기 위해 값이 모두 1인 행렬 생성\n",
        "  w0_factors = np.ones((N,1))\n",
        "\n",
        "  w1_update = -(2/N) * learning_rate*(np.dot(X.T, diff))\n",
        "  w0_update = -(2/N) * learning_rate*(np.dot(w0_factors.T, diff))\n",
        "\n",
        "  return w1_update, w0_update"
      ],
      "metadata": {
        "id": "eS4ivJDn4i0W"
      },
      "execution_count": 3,
      "outputs": []
    },
    {
      "cell_type": "code",
      "source": [
        "#gradient_descent() 함수를 생성해서 w1과 w0을 모두 0으로 초기화한 뒤 iters개수만큼 반복하면서 업데이트해주기\n",
        "\n",
        "def gradient_descent_steps(X, y, iters=10000):\n",
        "  #0으로 초기화\n",
        "  w0 = np.zeros((1,1))\n",
        "  w1 = np.zeros((1,1))\n",
        "\n",
        "  #iters만큼 반복적으로 함수 호출\n",
        "  for ind in range(iters):\n",
        "    w1_update, w0_update = get_weight_updates(w1, w0, X, y, learning_rate=0.01)\n",
        "    w1 = w1 - w1_update\n",
        "    w0 = w0 - w0_update\n",
        "\n",
        "  return w1, w0"
      ],
      "metadata": {
        "id": "D50Oslnx69ee"
      },
      "execution_count": 5,
      "outputs": []
    },
    {
      "cell_type": "code",
      "source": [
        "#앞서 만든 gradient_descent_steps()를 호출해 w1, w0 구하고 비용 함수로 경사하강법 예측 오류 계산하기\n",
        "\n",
        "w1, w0 = gradient_descent_steps(X, y, iters=1000)\n",
        "print('w1:{0:.3f} w0:{1:.3f}'.format(w1[0,0], w0[0,0]))\n",
        "y_pred = w1[0,0] * X + w0\n",
        "print('Gradient Descent Total Cost:{0:.4f}'.format(get_cost(y, y_pred)))"
      ],
      "metadata": {
        "colab": {
          "base_uri": "https://localhost:8080/"
        },
        "id": "vn6XIgxxUd0P",
        "outputId": "6918c3f5-cc27-4f78-face-55482ca27e46"
      },
      "execution_count": 9,
      "outputs": [
        {
          "output_type": "stream",
          "name": "stdout",
          "text": [
            "w1:4.028 w0:6.490\n",
            "Gradient Descent Total Cost:0.0775\n"
          ]
        }
      ]
    },
    {
      "cell_type": "markdown",
      "source": [
        "실제 선형식인 y = 4X + 6과 유사하게 w1은 4.028, w0은 6.490으로 도출되었다\n",
        "\n",
        "예측 오류 비용은 약 0.0775"
      ],
      "metadata": {
        "id": "lbrjDuUuXkbG"
      }
    },
    {
      "cell_type": "code",
      "source": [
        "plt.scatter(X, y)\n",
        "plt.plot(X, y_pred)"
      ],
      "metadata": {
        "colab": {
          "base_uri": "https://localhost:8080/",
          "height": 448
        },
        "id": "B4j-KrWxWrvr",
        "outputId": "dc784d4a-9cd3-47ac-ca37-19f0f7570b0f"
      },
      "execution_count": 10,
      "outputs": [
        {
          "output_type": "execute_result",
          "data": {
            "text/plain": [
              "[<matplotlib.lines.Line2D at 0x7f3cb80e5ae0>]"
            ]
          },
          "metadata": {},
          "execution_count": 10
        },
        {
          "output_type": "display_data",
          "data": {
            "text/plain": [
              "<Figure size 640x480 with 1 Axes>"
            ],
            "image/png": "[encoded data removed]"
          },
          "metadata": {}
        }
      ]
    },
    {
      "cell_type": "markdown",
      "source": [
        "일반적으로 경사하강법은 모든 학습데이터에 대해 반복적으로 값을 업데이트하기 때문에 수행 시간이 오래 걸린다.\n",
        "\n",
        "따라서, 실전에서는 '확률적 경사하강법'을 이용하여 일부 데이터만 이용해 w가 업데이트되는 값을 계산하므로 속도가 빨라진다\n",
        "\n",
        "대용량 데이터의 경우, '미니 배치 확률적 경사하강법'을 이용하기도 함"
      ],
      "metadata": {
        "id": "G-wlaZMcX77N"
      }
    },
    {
      "cell_type": "markdown",
      "source": [
        "#### 미니 배치 확률적 경사하강법 구현하기"
      ],
      "metadata": {
        "id": "y8bRqom2YWbI"
      }
    },
    {
      "cell_type": "code",
      "source": [
        "#앞서 만든 gradient_descent_steps()와 별로 다르지 않지만 전체 X, y데이터에서 랜덤하게 batch_size만큼 추출해 이를 기반으로 업데이트값을 계산함\n",
        "\n",
        "def stochastic_gradient_descent_steps(X, y, batch_size=10, iters=1000):\n",
        "  w0 = np.zeros((1,1))\n",
        "  w1 = np.zeros((1,1))\n",
        "\n",
        "  for ind in range(iters):\n",
        "    np.random.seed(ind)\n",
        "\n",
        "    #전체 X, y데이터에서 batch_size만큼 랜덤하게 추출해 sample로 저장\n",
        "    stochastic_random_index = np.random.permutation(X.shape[0])\n",
        "    sample_X = X[stochastic_random_index[0:batch_size]]\n",
        "    sample_y = y[stochastic_random_index[0:batch_size]]\n",
        "\n",
        "    w1_update, w0_update = get_weight_updates(w1, w0, sample_X, sample_y, learning_rate=0.01)\n",
        "    w1 = w1 - w1_update\n",
        "    w0 = w0 - w0_update\n",
        "\n",
        "  return w1, w0"
      ],
      "metadata": {
        "id": "Z_waq97hXztS"
      },
      "execution_count": 11,
      "outputs": []
    },
    {
      "cell_type": "code",
      "source": [
        "w1, w0 =  stochastic_gradient_descent_steps(X, y, iters=1000)\n",
        "print('w1:', round(w1[0,0], 3), 'w0:', round(w0[0,0], 3))\n",
        "y_pred = w1[0,0] * X + w0\n",
        "print('Stochastic Gradient Descent Total Cost:{0:.4f}'.format(get_cost(y, y_pred)))"
      ],
      "metadata": {
        "colab": {
          "base_uri": "https://localhost:8080/"
        },
        "id": "rnazBOBZbCUo",
        "outputId": "a155b776-1985-42b7-d5c8-f7719fc6e483"
      },
      "execution_count": 12,
      "outputs": [
        {
          "output_type": "stream",
          "name": "stdout",
          "text": [
            "w1: 4.031 w0: 6.486\n",
            "Stochastic Gradient Descent Total Cost:0.0777\n"
          ]
        }
      ]
    },
    {
      "cell_type": "markdown",
      "source": [
        "미니 배치 확률적 경사하강법으로 구한 w0, w1결과는 일반 경사하강법으로 구한 결과와 큰 차이가 없음\n",
        "\n",
        "예측 오류 비용도 아주 조금 높아짐\n",
        "\n",
        "피처가 여러개인 경우도 1개인 경우를 확장해 유사하게 도출할 수 있음. 피처가 M개 있다면 회귀 계수도 M+1개로 도출"
      ],
      "metadata": {
        "id": "f8aXacTYbgbR"
      }
    },
    {
      "cell_type": "code",
      "source": [],
      "metadata": {
        "id": "aVsMGQRjbdyu"
      },
      "execution_count": null,
      "outputs": []
    }
  ]
}