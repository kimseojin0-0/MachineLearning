{
 "cells": [
  {
   "cell_type": "markdown",
   "id": "91ee2901",
   "metadata": {},
   "source": [
    "## 데이터 스케일링 Data Scaling\n",
    "\n",
    "- 피처들마다 데이터값 범위가 제각각이기 때문에 범위 차이가 클 경우, 모델링에 방해가 됨\n",
    "\n",
    "\n",
    "- 스케일링을 통해 모든 피처들의 데이터 분포나 범위를 동일하게 조정해줄 수 있음\n",
    "\n",
    "\n",
    "- 훈련용 데이터셋은 fit 메서드를 적용시킨 후 transform, 테스트용 데이터셋에는 transform만 적용"
   ]
  },
  {
   "cell_type": "code",
   "execution_count": 127,
   "id": "2f09bed9",
   "metadata": {},
   "outputs": [],
   "source": [
    "#라이브러리 정의\n",
    "\n",
    "import numpy as np\n",
    "import pandas as pd\n",
    "import seaborn as sns\n",
    "import matplotlib.pyplot as plt\n",
    "\n",
    "from sklearn.datasets import load_breast_cancer\n",
    "from sklearn.model_selection import train_test_split\n",
    "from sklearn.tree import DecisionTreeClassifier"
   ]
  },
  {
   "cell_type": "code",
   "execution_count": 128,
   "id": "6a1b27f8",
   "metadata": {},
   "outputs": [],
   "source": [
    "#데이터 df형태로 불러오기\n",
    "\n",
    "cancer = load_breast_cancer()\n",
    "cancer_df = pd.DataFrame(cancer.data, columns=cancer.feature_names)"
   ]
  },
  {
   "cell_type": "code",
   "execution_count": 129,
   "id": "a50cb2e4",
   "metadata": {},
   "outputs": [
    {
     "name": "stdout",
     "output_type": "stream",
     "text": [
      "[0 0 0 0 0 0 0 0 0 0 0 0 0 0 0 0 0 0 0 1 1 1 0 0 0 0 0 0 0 0 0 0 0 0 0 0 0\n",
      " 1 0 0 0 0 0 0 0 0 1 0 1 1 1 1 1 0 0 1 0 0 1 1 1 1 0 1 0 0 1 1 1 1 0 1 0 0\n",
      " 1 0 1 0 0 1 1 1 0 0 1 0 0 0 1 1 1 0 1 1 0 0 1 1 1 0 0 1 1 1 1 0 1 1 0 1 1\n",
      " 1 1 1 1 1 1 0 0 0 1 0 0 1 1 1 0 0 1 0 1 0 0 1 0 0 1 1 0 1 1 0 1 1 1 1 0 1\n",
      " 1 1 1 1 1 1 1 1 0 1 1 1 1 0 0 1 0 1 1 0 0 1 1 0 0 1 1 1 1 0 1 1 0 0 0 1 0\n",
      " 1 0 1 1 1 0 1 1 0 0 1 0 0 0 0 1 0 0 0 1 0 1 0 1 1 0 1 0 0 0 0 1 1 0 0 1 1\n",
      " 1 0 1 1 1 1 1 0 0 1 1 0 1 1 0 0 1 0 1 1 1 1 0 1 1 1 1 1 0 1 0 0 0 0 0 0 0\n",
      " 0 0 0 0 0 0 0 1 1 1 1 1 1 0 1 0 1 1 0 1 1 0 1 0 0 1 1 1 1 1 1 1 1 1 1 1 1\n",
      " 1 0 1 1 0 1 0 1 1 1 1 1 1 1 1 1 1 1 1 1 1 0 1 1 1 0 1 0 1 1 1 1 0 0 0 1 1\n",
      " 1 1 0 1 0 1 0 1 1 1 0 1 1 1 1 1 1 1 0 0 0 1 1 1 1 1 1 1 1 1 1 1 0 0 1 0 0\n",
      " 0 1 0 0 1 1 1 1 1 0 1 1 1 1 1 0 1 1 1 0 1 1 0 0 1 1 1 1 1 1 0 1 1 1 1 1 1\n",
      " 1 0 1 1 1 1 1 0 1 1 0 1 1 1 1 1 1 1 1 1 1 1 1 0 1 0 0 1 0 1 1 1 1 1 0 1 1\n",
      " 0 1 0 1 1 0 1 0 1 1 1 1 1 1 1 1 0 0 1 1 1 1 1 1 0 1 1 1 1 1 1 1 1 1 1 0 1\n",
      " 1 1 1 1 1 1 0 1 0 1 1 0 1 1 1 1 1 0 0 1 0 1 0 1 1 1 1 1 0 1 1 0 1 0 1 0 0\n",
      " 1 1 1 0 1 1 1 1 1 1 1 1 1 1 1 0 1 0 0 1 1 1 1 1 1 1 1 1 1 1 1 1 1 1 1 1 1\n",
      " 1 1 1 1 1 1 1 0 0 0 0 0 0 1]\n"
     ]
    },
    {
     "data": {
      "text/html": [
       "<div>\n",
       "<style scoped>\n",
       "    .dataframe tbody tr th:only-of-type {\n",
       "        vertical-align: middle;\n",
       "    }\n",
       "\n",
       "    .dataframe tbody tr th {\n",
       "        vertical-align: top;\n",
       "    }\n",
       "\n",
       "    .dataframe thead th {\n",
       "        text-align: right;\n",
       "    }\n",
       "</style>\n",
       "<table border=\"1\" class=\"dataframe\">\n",
       "  <thead>\n",
       "    <tr style=\"text-align: right;\">\n",
       "      <th></th>\n",
       "      <th>mean radius</th>\n",
       "      <th>mean texture</th>\n",
       "      <th>mean perimeter</th>\n",
       "      <th>mean area</th>\n",
       "      <th>mean smoothness</th>\n",
       "      <th>mean compactness</th>\n",
       "      <th>mean concavity</th>\n",
       "      <th>mean concave points</th>\n",
       "      <th>mean symmetry</th>\n",
       "      <th>mean fractal dimension</th>\n",
       "      <th>...</th>\n",
       "      <th>worst texture</th>\n",
       "      <th>worst perimeter</th>\n",
       "      <th>worst area</th>\n",
       "      <th>worst smoothness</th>\n",
       "      <th>worst compactness</th>\n",
       "      <th>worst concavity</th>\n",
       "      <th>worst concave points</th>\n",
       "      <th>worst symmetry</th>\n",
       "      <th>worst fractal dimension</th>\n",
       "      <th>target</th>\n",
       "    </tr>\n",
       "  </thead>\n",
       "  <tbody>\n",
       "    <tr>\n",
       "      <th>0</th>\n",
       "      <td>17.99</td>\n",
       "      <td>10.38</td>\n",
       "      <td>122.80</td>\n",
       "      <td>1001.0</td>\n",
       "      <td>0.11840</td>\n",
       "      <td>0.27760</td>\n",
       "      <td>0.3001</td>\n",
       "      <td>0.14710</td>\n",
       "      <td>0.2419</td>\n",
       "      <td>0.07871</td>\n",
       "      <td>...</td>\n",
       "      <td>17.33</td>\n",
       "      <td>184.60</td>\n",
       "      <td>2019.0</td>\n",
       "      <td>0.1622</td>\n",
       "      <td>0.6656</td>\n",
       "      <td>0.7119</td>\n",
       "      <td>0.2654</td>\n",
       "      <td>0.4601</td>\n",
       "      <td>0.11890</td>\n",
       "      <td>0</td>\n",
       "    </tr>\n",
       "    <tr>\n",
       "      <th>1</th>\n",
       "      <td>20.57</td>\n",
       "      <td>17.77</td>\n",
       "      <td>132.90</td>\n",
       "      <td>1326.0</td>\n",
       "      <td>0.08474</td>\n",
       "      <td>0.07864</td>\n",
       "      <td>0.0869</td>\n",
       "      <td>0.07017</td>\n",
       "      <td>0.1812</td>\n",
       "      <td>0.05667</td>\n",
       "      <td>...</td>\n",
       "      <td>23.41</td>\n",
       "      <td>158.80</td>\n",
       "      <td>1956.0</td>\n",
       "      <td>0.1238</td>\n",
       "      <td>0.1866</td>\n",
       "      <td>0.2416</td>\n",
       "      <td>0.1860</td>\n",
       "      <td>0.2750</td>\n",
       "      <td>0.08902</td>\n",
       "      <td>0</td>\n",
       "    </tr>\n",
       "    <tr>\n",
       "      <th>2</th>\n",
       "      <td>19.69</td>\n",
       "      <td>21.25</td>\n",
       "      <td>130.00</td>\n",
       "      <td>1203.0</td>\n",
       "      <td>0.10960</td>\n",
       "      <td>0.15990</td>\n",
       "      <td>0.1974</td>\n",
       "      <td>0.12790</td>\n",
       "      <td>0.2069</td>\n",
       "      <td>0.05999</td>\n",
       "      <td>...</td>\n",
       "      <td>25.53</td>\n",
       "      <td>152.50</td>\n",
       "      <td>1709.0</td>\n",
       "      <td>0.1444</td>\n",
       "      <td>0.4245</td>\n",
       "      <td>0.4504</td>\n",
       "      <td>0.2430</td>\n",
       "      <td>0.3613</td>\n",
       "      <td>0.08758</td>\n",
       "      <td>0</td>\n",
       "    </tr>\n",
       "    <tr>\n",
       "      <th>3</th>\n",
       "      <td>11.42</td>\n",
       "      <td>20.38</td>\n",
       "      <td>77.58</td>\n",
       "      <td>386.1</td>\n",
       "      <td>0.14250</td>\n",
       "      <td>0.28390</td>\n",
       "      <td>0.2414</td>\n",
       "      <td>0.10520</td>\n",
       "      <td>0.2597</td>\n",
       "      <td>0.09744</td>\n",
       "      <td>...</td>\n",
       "      <td>26.50</td>\n",
       "      <td>98.87</td>\n",
       "      <td>567.7</td>\n",
       "      <td>0.2098</td>\n",
       "      <td>0.8663</td>\n",
       "      <td>0.6869</td>\n",
       "      <td>0.2575</td>\n",
       "      <td>0.6638</td>\n",
       "      <td>0.17300</td>\n",
       "      <td>0</td>\n",
       "    </tr>\n",
       "    <tr>\n",
       "      <th>4</th>\n",
       "      <td>20.29</td>\n",
       "      <td>14.34</td>\n",
       "      <td>135.10</td>\n",
       "      <td>1297.0</td>\n",
       "      <td>0.10030</td>\n",
       "      <td>0.13280</td>\n",
       "      <td>0.1980</td>\n",
       "      <td>0.10430</td>\n",
       "      <td>0.1809</td>\n",
       "      <td>0.05883</td>\n",
       "      <td>...</td>\n",
       "      <td>16.67</td>\n",
       "      <td>152.20</td>\n",
       "      <td>1575.0</td>\n",
       "      <td>0.1374</td>\n",
       "      <td>0.2050</td>\n",
       "      <td>0.4000</td>\n",
       "      <td>0.1625</td>\n",
       "      <td>0.2364</td>\n",
       "      <td>0.07678</td>\n",
       "      <td>0</td>\n",
       "    </tr>\n",
       "  </tbody>\n",
       "</table>\n",
       "<p>5 rows × 31 columns</p>\n",
       "</div>"
      ],
      "text/plain": [
       "   mean radius  mean texture  mean perimeter  mean area  mean smoothness  \\\n",
       "0        17.99         10.38          122.80     1001.0          0.11840   \n",
       "1        20.57         17.77          132.90     1326.0          0.08474   \n",
       "2        19.69         21.25          130.00     1203.0          0.10960   \n",
       "3        11.42         20.38           77.58      386.1          0.14250   \n",
       "4        20.29         14.34          135.10     1297.0          0.10030   \n",
       "\n",
       "   mean compactness  mean concavity  mean concave points  mean symmetry  \\\n",
       "0           0.27760          0.3001              0.14710         0.2419   \n",
       "1           0.07864          0.0869              0.07017         0.1812   \n",
       "2           0.15990          0.1974              0.12790         0.2069   \n",
       "3           0.28390          0.2414              0.10520         0.2597   \n",
       "4           0.13280          0.1980              0.10430         0.1809   \n",
       "\n",
       "   mean fractal dimension  ...  worst texture  worst perimeter  worst area  \\\n",
       "0                 0.07871  ...          17.33           184.60      2019.0   \n",
       "1                 0.05667  ...          23.41           158.80      1956.0   \n",
       "2                 0.05999  ...          25.53           152.50      1709.0   \n",
       "3                 0.09744  ...          26.50            98.87       567.7   \n",
       "4                 0.05883  ...          16.67           152.20      1575.0   \n",
       "\n",
       "   worst smoothness  worst compactness  worst concavity  worst concave points  \\\n",
       "0            0.1622             0.6656           0.7119                0.2654   \n",
       "1            0.1238             0.1866           0.2416                0.1860   \n",
       "2            0.1444             0.4245           0.4504                0.2430   \n",
       "3            0.2098             0.8663           0.6869                0.2575   \n",
       "4            0.1374             0.2050           0.4000                0.1625   \n",
       "\n",
       "   worst symmetry  worst fractal dimension  target  \n",
       "0          0.4601                  0.11890       0  \n",
       "1          0.2750                  0.08902       0  \n",
       "2          0.3613                  0.08758       0  \n",
       "3          0.6638                  0.17300       0  \n",
       "4          0.2364                  0.07678       0  \n",
       "\n",
       "[5 rows x 31 columns]"
      ]
     },
     "execution_count": 129,
     "metadata": {},
     "output_type": "execute_result"
    }
   ],
   "source": [
    "#target 확인하기, 0과 1밖에 없는 것으로 보아 분류 알고리즘 사용해야 함\n",
    "print(cancer.target)\n",
    "\n",
    "cancer_df['target'] = cancer.target\n",
    "cancer_df.head()"
   ]
  },
  {
   "cell_type": "code",
   "execution_count": 133,
   "id": "3511f17b",
   "metadata": {},
   "outputs": [
    {
     "name": "stdout",
     "output_type": "stream",
     "text": [
      "모델의 정확도 : 0.8947\n"
     ]
    }
   ],
   "source": [
    "X_train, X_test, y_train, y_test = train_test_split(cancer.data, cancer.target, test_size=0.2, random_state=3)\n",
    "dtc = DecisionTreeClassifier()\n",
    "dtc.fit(X_train, y_train)\n",
    "print('모델의 정확도 :', round(dtc.score(X_test, y_test), 4))"
   ]
  },
  {
   "cell_type": "markdown",
   "id": "55fd43bd",
   "metadata": {},
   "source": [
    "### (1) StandardScaler\n",
    "\n",
    "- 모든 피처들이 평균 0, 분산 1인 정규분포 갖게 해줌(표준화)\n",
    "\n",
    "\n",
    "- 이 방법은 데이터 내에 이상치가 있다면 데이터의 평균, 분산에 큰 영향 주므로 적절하지 않음"
   ]
  },
  {
   "cell_type": "code",
   "execution_count": 136,
   "id": "040b03cd",
   "metadata": {},
   "outputs": [
    {
     "name": "stdout",
     "output_type": "stream",
     "text": [
      "모델의 정확도 : 0.9035\n"
     ]
    }
   ],
   "source": [
    "from sklearn.preprocessing import StandardScaler\n",
    "\n",
    "std = StandardScaler()\n",
    "std.fit(X_train)\n",
    "X_train_scaled = std.transform(X_train)\n",
    "X_test_scaled = std.transform(X_test)\n",
    "dtc.fit(X_train_scaled, y_train)\n",
    "print('모델의 정확도 :', round(dtc.score(X_test_scaled, y_test), 4))"
   ]
  },
  {
   "cell_type": "markdown",
   "id": "7abfef0a",
   "metadata": {},
   "source": [
    "- 정확도가 올라감"
   ]
  },
  {
   "cell_type": "code",
   "execution_count": 51,
   "id": "0bc58650",
   "metadata": {},
   "outputs": [
    {
     "data": {
      "text/plain": [
       "array([[1.916e+01, 2.660e+01, 1.262e+02, ..., 1.872e-01, 3.258e-01,\n",
       "        9.720e-02],\n",
       "       [1.831e+01, 1.858e+01, 1.186e+02, ..., 1.571e-01, 3.206e-01,\n",
       "        6.938e-02],\n",
       "       [1.404e+01, 1.598e+01, 8.978e+01, ..., 7.453e-02, 2.725e-01,\n",
       "        7.234e-02],\n",
       "       ...,\n",
       "       [1.795e+01, 2.001e+01, 1.142e+02, ..., 1.185e-01, 4.882e-01,\n",
       "        6.111e-02],\n",
       "       [1.955e+01, 2.877e+01, 1.336e+02, ..., 1.941e-01, 2.818e-01,\n",
       "        1.005e-01],\n",
       "       [1.152e+01, 1.493e+01, 7.387e+01, ..., 9.608e-02, 2.664e-01,\n",
       "        7.809e-02]])"
      ]
     },
     "execution_count": 51,
     "metadata": {},
     "output_type": "execute_result"
    }
   ],
   "source": [
    "X_train"
   ]
  },
  {
   "cell_type": "code",
   "execution_count": 29,
   "id": "13d26939",
   "metadata": {},
   "outputs": [
    {
     "data": {
      "text/plain": [
       "array([[ 1.40381088,  1.79283426,  1.37960065, ...,  1.044121  ,\n",
       "         0.52295995,  0.64990763],\n",
       "       [ 1.16565505, -0.14461158,  1.07121375, ...,  0.5940779 ,\n",
       "         0.44153782, -0.85281516],\n",
       "       [-0.0307278 , -0.77271123, -0.09822185, ..., -0.64047556,\n",
       "        -0.31161687, -0.69292805],\n",
       "       ...,\n",
       "       [ 1.06478904,  0.20084323,  0.89267396, ...,  0.01694621,\n",
       "         3.06583565, -1.29952679],\n",
       "       [ 1.51308238,  2.3170559 ,  1.67987211, ...,  1.14728703,\n",
       "        -0.16599653,  0.82816016],\n",
       "       [-0.73678981, -1.02636686, -0.74380549, ..., -0.31826862,\n",
       "        -0.40713129, -0.38233653]])"
      ]
     },
     "execution_count": 29,
     "metadata": {},
     "output_type": "execute_result"
    }
   ],
   "source": [
    "X_train_scaled\n",
    "# 데이터값의 범위가 변화함"
   ]
  },
  {
   "cell_type": "code",
   "execution_count": 30,
   "id": "85505a34",
   "metadata": {},
   "outputs": [
    {
     "data": {
      "text/plain": [
       "(455, 30)"
      ]
     },
     "execution_count": 30,
     "metadata": {},
     "output_type": "execute_result"
    }
   ],
   "source": [
    "X_train_scaled.shape"
   ]
  },
  {
   "cell_type": "code",
   "execution_count": 31,
   "id": "7d49f5c0",
   "metadata": {},
   "outputs": [
    {
     "data": {
      "text/plain": [
       "13650"
      ]
     },
     "execution_count": 31,
     "metadata": {},
     "output_type": "execute_result"
    }
   ],
   "source": [
    "455*30"
   ]
  },
  {
   "cell_type": "code",
   "execution_count": 97,
   "id": "cc194d95",
   "metadata": {},
   "outputs": [],
   "source": [
    "# 데이터 타입이 array이기 때문에 열을 1개로 바꿔주기\n",
    "X_train_scaled_ss = X_train_scaled.reshape(13650, 1)\n",
    "X_train_data = X_train.reshape(13650, 1)"
   ]
  },
  {
   "cell_type": "markdown",
   "id": "954c7853",
   "metadata": {},
   "source": [
    "##### 스케일링 전의 훈련용 데이터셋 분포"
   ]
  },
  {
   "cell_type": "code",
   "execution_count": 98,
   "id": "e06c837f",
   "metadata": {},
   "outputs": [
    {
     "data": {
      "image/png": "[encoded data removed]",
      "text/plain": [
       "<Figure size 640x480 with 1 Axes>"
      ]
     },
     "metadata": {},
     "output_type": "display_data"
    }
   ],
   "source": [
    "plt.hist(X_train_data, bins=30, color='red', alpha=0.7)\n",
    "plt.title('Before Data Scaling')\n",
    "plt.show()"
   ]
  },
  {
   "cell_type": "markdown",
   "id": "8d8be1c4",
   "metadata": {},
   "source": [
    "##### 스케일링 후 훈련용 데이터셋 분포"
   ]
  },
  {
   "cell_type": "code",
   "execution_count": 99,
   "id": "840e8238",
   "metadata": {},
   "outputs": [
    {
     "data": {
      "image/png": "[encoded data removed]",
      "text/plain": [
       "<Figure size 640x480 with 1 Axes>"
      ]
     },
     "metadata": {},
     "output_type": "display_data"
    }
   ],
   "source": [
    "plt.hist(X_train_scaled_ss, bins=30, alpha=0.7, density=True)\n",
    "plt.title('After Data Scaling')\n",
    "plt.show()"
   ]
  },
  {
   "cell_type": "markdown",
   "id": "bca26be0",
   "metadata": {},
   "source": [
    "- 그래프가 0을 중심으로 정규 분포 모양을 가짐"
   ]
  },
  {
   "cell_type": "markdown",
   "id": "aab84778",
   "metadata": {},
   "source": [
    "### (2) MInMaxScaler\n",
    "\n",
    "- 모든 피처들이 0과 1사이의 데이터값을 갖도록 함(피처별로 최솟값 0 ~ 최댓값 1이 됨)\n",
    "\n",
    "\n",
    "- 데이터가 2차원인 경우, 모든 데이터는 x, y축의 0과 1사이에 존재\n",
    "\n",
    "\n",
    "- 이 방법도 이상치 존재할 경우, 이상치가 극값이 되어 데이터가 아주 좁은 범위에 분포하게돼서 적절한 스케일링이 아님"
   ]
  },
  {
   "cell_type": "code",
   "execution_count": 118,
   "id": "c70a74e2",
   "metadata": {},
   "outputs": [
    {
     "name": "stdout",
     "output_type": "stream",
     "text": [
      "모델의 정확도 : 0.9035\n"
     ]
    }
   ],
   "source": [
    "from sklearn.preprocessing import MinMaxScaler\n",
    "\n",
    "mms = MinMaxScaler()\n",
    "mms.fit(X_train)\n",
    "X_train_scaled = mms.transform(X_train)\n",
    "X_test_scaled = mms.transform(X_test)\n",
    "dtc.fit(X_train_scaled, y_train)\n",
    "print('모델의 정확도 :', round(dtc.score(X_test_scaled, y_test), 4))"
   ]
  },
  {
   "cell_type": "markdown",
   "id": "be3837ac",
   "metadata": {},
   "source": [
    "- 정확도가 올라감"
   ]
  },
  {
   "cell_type": "code",
   "execution_count": 84,
   "id": "7cd06188",
   "metadata": {},
   "outputs": [
    {
     "data": {
      "text/plain": [
       "array([[0.56168275, 0.7081761 , 0.55664674, ..., 0.64329897, 0.33372758,\n",
       "        0.27653155],\n",
       "       [0.52005485, 0.37190776, 0.50256191, ..., 0.53986254, 0.32347723,\n",
       "        0.09405746],\n",
       "       [0.31093589, 0.26289308, 0.29746655, ..., 0.25611684, 0.22866154,\n",
       "        0.11347239],\n",
       "       ...,\n",
       "       [0.50242421, 0.43186583, 0.47124964, ..., 0.40721649, 0.65385374,\n",
       "        0.03981372],\n",
       "       [0.5807826 , 0.79916143, 0.60930828, ..., 0.66701031, 0.24699389,\n",
       "        0.29817657],\n",
       "       [0.18752143, 0.21886792, 0.18424424, ..., 0.33017182, 0.2166371 ,\n",
       "        0.1511872 ]])"
      ]
     },
     "execution_count": 84,
     "metadata": {},
     "output_type": "execute_result"
    }
   ],
   "source": [
    "X_train_scaled\n",
    "# 데이터값이 0과 1사이에 있음을 확인할 수 있음"
   ]
  },
  {
   "cell_type": "code",
   "execution_count": 85,
   "id": "3d722fdd",
   "metadata": {},
   "outputs": [],
   "source": [
    "X_train_scaled_mms = X_train_scaled.reshape(13650, 1)"
   ]
  },
  {
   "cell_type": "code",
   "execution_count": 86,
   "id": "8a5efcb3",
   "metadata": {},
   "outputs": [
    {
     "data": {
      "image/png": "[encoded data removed]",
      "text/plain": [
       "<Figure size 640x480 with 1 Axes>"
      ]
     },
     "metadata": {},
     "output_type": "display_data"
    }
   ],
   "source": [
    "plt.hist(X_train_scaled_mms, bins=30, color='green', alpha=0.7)\n",
    "plt.title('MinMaxScaler')\n",
    "plt.show()"
   ]
  },
  {
   "cell_type": "markdown",
   "id": "866e92f0",
   "metadata": {},
   "source": [
    "### (3) MaxAbsScaler\n",
    "\n",
    "- MinMaxScaler와 비슷, 모든 피처들의 절댓값이 0과 1사이에 놓이도록 함(0을 기준으로 절댓값이 가장 큰 수가 1 또는 -1)\n",
    "\n",
    "\n",
    "- 이상치의 영향을 크게 받음"
   ]
  },
  {
   "cell_type": "code",
   "execution_count": 91,
   "id": "e819281c",
   "metadata": {},
   "outputs": [
    {
     "name": "stdout",
     "output_type": "stream",
     "text": [
      "모델의 정확도 : 0.9123\n"
     ]
    }
   ],
   "source": [
    "from sklearn.preprocessing import MaxAbsScaler\n",
    "\n",
    "mas = MaxAbsScaler()\n",
    "mas.fit(X_train)\n",
    "X_train_scaled = mas.transform(X_train)\n",
    "X_test_scaled = mas.transform(X_test)\n",
    "dtc.fit(X_train_scaled, y_train)\n",
    "print('모델의 정확도 :', round(dtc.score(X_test_scaled, y_test), 4))"
   ]
  },
  {
   "cell_type": "markdown",
   "id": "a06912d6",
   "metadata": {},
   "source": [
    "- 마찬가지로 정확도 올라감"
   ]
  },
  {
   "cell_type": "code",
   "execution_count": 92,
   "id": "4005f99d",
   "metadata": {},
   "outputs": [
    {
     "data": {
      "text/plain": [
       "array([[0.68160797, 0.79261025, 0.66949602, ..., 0.64329897, 0.49081049,\n",
       "        0.46843373],\n",
       "       [0.65136962, 0.55363528, 0.62917772, ..., 0.53986254, 0.4829768 ,\n",
       "        0.33436145],\n",
       "       [0.49946638, 0.4761621 , 0.47628647, ..., 0.25611684, 0.41051522,\n",
       "        0.34862651],\n",
       "       ...,\n",
       "       [0.63856279, 0.59624553, 0.60583554, ..., 0.40721649, 0.73546249,\n",
       "        0.29450602],\n",
       "       [0.69548203, 0.85727056, 0.70875332, ..., 0.66701031, 0.42452546,\n",
       "        0.48433735],\n",
       "       [0.40981857, 0.44487485, 0.39188329, ..., 0.33017182, 0.4013257 ,\n",
       "        0.37633735]])"
      ]
     },
     "execution_count": 92,
     "metadata": {},
     "output_type": "execute_result"
    }
   ],
   "source": [
    "X_train_scaled"
   ]
  },
  {
   "cell_type": "code",
   "execution_count": 93,
   "id": "04869851",
   "metadata": {},
   "outputs": [],
   "source": [
    "X_train_scaled_mas = X_train_scaled.reshape(13650, 1)"
   ]
  },
  {
   "cell_type": "code",
   "execution_count": 94,
   "id": "df083de7",
   "metadata": {},
   "outputs": [
    {
     "data": {
      "image/png": "[encoded data removed]",
      "text/plain": [
       "<Figure size 640x480 with 1 Axes>"
      ]
     },
     "metadata": {},
     "output_type": "display_data"
    }
   ],
   "source": [
    "plt.hist(X_train_scaled_mas, bins=30, color='yellow', alpha=0.7)\n",
    "plt.title('MaxAbsScaler')\n",
    "plt.show()"
   ]
  },
  {
   "cell_type": "markdown",
   "id": "a6e4604e",
   "metadata": {},
   "source": [
    "- MinMaxScaler 그래프보다 퍼져있음을 알 수 있음, 데이터가 모두 양수라 0과 1사이에만 존재함"
   ]
  },
  {
   "cell_type": "markdown",
   "id": "b39692b4",
   "metadata": {},
   "source": [
    "### (4) RobustScaler\n",
    "\n",
    "- StandardScaler와 비슷, 대신 얘는 중간값(median)과 사분위값(quartile)을 사용\n",
    "\n",
    "\n",
    "- 이상치의 영향 최소화할 수 있음\n",
    "\n",
    "\n",
    "- StandardScaler와 비교했을 때, RobustScaler는 표준화 후 데이터가 더 넓게 분포해있음"
   ]
  },
  {
   "cell_type": "code",
   "execution_count": 95,
   "id": "086f63e3",
   "metadata": {},
   "outputs": [
    {
     "name": "stdout",
     "output_type": "stream",
     "text": [
      "모델의 정확도 : 0.9123\n"
     ]
    }
   ],
   "source": [
    "from sklearn.preprocessing import RobustScaler\n",
    "\n",
    "rbs = RobustScaler()\n",
    "rbs.fit(X_train)\n",
    "X_train_scaled = rbs.transform(X_train)\n",
    "X_test_scaled = rbs.transform(X_test)\n",
    "dtc.fit(X_train_scaled, y_train)\n",
    "print('모델의 정확도 :', round(dtc.score(X_test_scaled, y_test), 4))"
   ]
  },
  {
   "cell_type": "markdown",
   "id": "fd638495",
   "metadata": {},
   "source": [
    "- 마찬가지로 정확도 올라감"
   ]
  },
  {
   "cell_type": "code",
   "execution_count": 96,
   "id": "a11e9543",
   "metadata": {},
   "outputs": [
    {
     "data": {
      "text/plain": [
       "array([[ 1.36170213,  1.42597639,  1.34367099, ...,  0.83828187,\n",
       "         0.63836018,  0.78497281],\n",
       "       [ 1.1607565 , -0.03088102,  1.08747682, ...,  0.54038005,\n",
       "         0.56222548, -0.59021256],\n",
       "       [ 0.15130024, -0.50317893,  0.11596157, ..., -0.27682106,\n",
       "        -0.1420205 , -0.44389521],\n",
       "       ...,\n",
       "       [ 1.07565012,  0.22888283,  0.93915389, ...,  0.15835313,\n",
       "         3.01610542, -0.99901137],\n",
       "       [ 1.45390071,  1.82016349,  1.59312321, ...,  0.90657165,\n",
       "        -0.00585652,  0.94809689],\n",
       "       [-0.44444444, -0.69391462, -0.42036069, ..., -0.06353919,\n",
       "        -0.23133236, -0.15966387]])"
      ]
     },
     "execution_count": 96,
     "metadata": {},
     "output_type": "execute_result"
    }
   ],
   "source": [
    "X_train_scaled"
   ]
  },
  {
   "cell_type": "code",
   "execution_count": 100,
   "id": "93a2da68",
   "metadata": {},
   "outputs": [],
   "source": [
    "X_train_scaled_rbs = X_train_scaled.reshape(13650, 1)"
   ]
  },
  {
   "cell_type": "code",
   "execution_count": 102,
   "id": "0c1c9203",
   "metadata": {},
   "outputs": [
    {
     "data": {
      "image/png": "[encoded data removed]",
      "text/plain": [
       "<Figure size 640x480 with 1 Axes>"
      ]
     },
     "metadata": {},
     "output_type": "display_data"
    }
   ],
   "source": [
    "plt.hist(X_train_scaled_rbs, bins=30, color='pink', alpha=0.7)\n",
    "plt.title('RobustScaler')\n",
    "plt.show()"
   ]
  },
  {
   "cell_type": "markdown",
   "id": "9bc55695",
   "metadata": {},
   "source": [
    "- 표준화되었기 때문에 StandardScaler와 모양이 비슷"
   ]
  },
  {
   "cell_type": "markdown",
   "id": "8701092c",
   "metadata": {},
   "source": [
    "### (5) Normalizer\n",
    "\n",
    "- 앞의 4가지 방법은 각 피처의 통계치를 이용함. 즉, 칼럼을 대상으로 함\n",
    "\n",
    "\n",
    "- Normalizer는 '행'마다 정규화가 진행, 한 행의 모든 피처들 사이의 유클리드 거리가 1이 되도록 만들어줌\n",
    "\n",
    "\n",
    "- 유클리드 거리(L2 Distance): 모든 차원에서 두 점 사이의 최단 거리\n",
    "\n",
    "\n",
    "- 좀 더 빠르게 학습할 수 있고 과대적합 확률을 낮출 수 있음"
   ]
  },
  {
   "cell_type": "code",
   "execution_count": 123,
   "id": "918a1eb5",
   "metadata": {},
   "outputs": [
    {
     "name": "stdout",
     "output_type": "stream",
     "text": [
      "모델의 정확도 : 0.9211\n"
     ]
    }
   ],
   "source": [
    "from sklearn.preprocessing import Normalizer\n",
    "\n",
    "norm = Normalizer()\n",
    "X_train_scaled = norm.fit_transform(X_train)\n",
    "X_test_scaled = norm.fit_transform(X_test)\n",
    "dtc.fit(X_train_scaled, y_train)\n",
    "print('모델의 정확도 :', round(dtc.score(X_test_scaled, y_test), 4))"
   ]
  },
  {
   "cell_type": "markdown",
   "id": "1f560318",
   "metadata": {},
   "source": [
    "- 모델 정확도가 가장 올라감"
   ]
  },
  {
   "cell_type": "code",
   "execution_count": 124,
   "id": "be4479d0",
   "metadata": {},
   "outputs": [
    {
     "data": {
      "text/plain": [
       "array([[9.22211661e-03, 1.28031473e-02, 6.07427514e-02, ...,\n",
       "        9.01033522e-05, 1.56814488e-04, 4.67844329e-05],\n",
       "       [1.03861667e-02, 1.05393215e-02, 6.72746788e-02, ...,\n",
       "        8.91134236e-05, 1.81857184e-04, 3.93551199e-05],\n",
       "       [1.43548748e-02, 1.63383831e-02, 9.17934942e-02, ...,\n",
       "        7.62014828e-05, 2.78611352e-04, 7.39623677e-05],\n",
       "       ...,\n",
       "       [1.11556685e-02, 1.24359291e-02, 7.09736683e-02, ...,\n",
       "        7.36460568e-05, 3.03409324e-04, 3.79789918e-05],\n",
       "       [8.54812786e-03, 1.25795211e-02, 5.84158507e-02, ...,\n",
       "        8.48691364e-05, 1.23215470e-04, 4.39430614e-05],\n",
       "       [1.77702285e-02, 2.30303396e-02, 1.13948505e-01, ...,\n",
       "        1.48208642e-04, 4.10936535e-04, 1.20458086e-04]])"
      ]
     },
     "execution_count": 124,
     "metadata": {},
     "output_type": "execute_result"
    }
   ],
   "source": [
    "X_train_scaled"
   ]
  },
  {
   "cell_type": "code",
   "execution_count": 125,
   "id": "dc72049d",
   "metadata": {},
   "outputs": [],
   "source": [
    "X_train_scaled_norm = X_train_scaled.reshape(13650, 1)"
   ]
  },
  {
   "cell_type": "code",
   "execution_count": 126,
   "id": "e2f5bcde",
   "metadata": {},
   "outputs": [
    {
     "data": {
      "image/png": "[encoded data removed]",
      "text/plain": [
       "<Figure size 640x480 with 1 Axes>"
      ]
     },
     "metadata": {},
     "output_type": "display_data"
    }
   ],
   "source": [
    "plt.hist(X_train_scaled_norm, bins=30, color='orange', alpha=0.7)\n",
    "plt.title('Normalizer')\n",
    "plt.show()"
   ]
  },
  {
   "cell_type": "markdown",
   "id": "a5549237",
   "metadata": {},
   "source": [
    "- 0 근처에서 데이터값이 다 모여있음, x축의 범위도 가장 작음"
   ]
  },
  {
   "cell_type": "code",
   "execution_count": null,
   "id": "3fd09eb8",
   "metadata": {},
   "outputs": [],
   "source": []
  }
 ],
 "metadata": {
  "kernelspec": {
   "display_name": "Python 3 (ipykernel)",
   "language": "python",
   "name": "python3"
  },
  "language_info": {
   "codemirror_mode": {
    "name": "ipython",
    "version": 3
   },
   "file_extension": ".py",
   "mimetype": "text/x-python",
   "name": "python",
   "nbconvert_exporter": "python",
   "pygments_lexer": "ipython3",
   "version": "3.10.9"
  }
 },
 "nbformat": 4,
 "nbformat_minor": 5
}
