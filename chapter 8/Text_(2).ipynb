{
  "nbformat": 4,
  "nbformat_minor": 0,
  "metadata": {
    "colab": {
      "provenance": []
    },
    "kernelspec": {
      "name": "python3",
      "display_name": "Python 3"
    },
    "language_info": {
      "name": "python"
    }
  },
  "cells": [
    {
      "cell_type": "markdown",
      "source": [
        "### 텍스트 사전 분비 작업(텍스트 전처리) - 텍스트 정규화\n",
        "\n",
        "- 텍스트 정규화는 텍스트를 머신러닝 알고리즘이나 NLP 애플리케이션에 입력 데이터로 사용하기 위해 클렌징, 정제, 토큰화, 어근화 등의 다양한 사전 작업을 수행하는 것이다.\n",
        "\n",
        "- 텍스트 정규화의 주요 작업을 NLTK 패키지를 이용해 실습해보자"
      ],
      "metadata": {
        "id": "8DQeRsioNNz1"
      }
    },
    {
      "cell_type": "markdown",
      "source": [
        "#### 클렌징\n",
        "\n",
        "- 텍스트에서 분석에 오히려 방해가 되는 불필요한 문자, 기호 등을 사전에 제거하는 작업.\n",
        "\n",
        "- 예를 들어, HTML, XML 태그나 특정 기호 등을 제거\n",
        "\n",
        "#### 텍스트 토큰화\n",
        "\n",
        "- 문서에서 문장을 분리하는 **문장 토큰화**\n",
        "\n",
        "  - 문장의 마침표(.), 개행문자(\\n) 등 문장의 마지막을 뜻하는 기호에 따라 분리하는 것이 일반적이다.\n",
        "\n",
        "  - 또한, 정규 표현식에 따른 문장 토큰화도 가능하다.\n",
        "\n",
        "  - 문장 토큰화는 각 문장이 가지는 sementic적인 의미가 중요한 요소로 사용될 때 사용한다.\n",
        "\n",
        "  - NLTK에서 많이 쓰이는 sent_tokenize를 이용해 수행해보자"
      ],
      "metadata": {
        "id": "yjKOgUt4TYiD"
      }
    },
    {
      "cell_type": "code",
      "source": [
        "from nltk import sent_tokenize\n",
        "import nltk\n",
        "nltk.download('punkt')  #마침표, 개행 문자 등의 데이터셋을 다운로드함\n",
        "\n",
        "text_sample = 'The Matrix is everywhere its all around us, here even in this room. \\\n",
        "               You can see it out your window or on your television. \\\n",
        "               You feel it when you go to work, or go to church or pay your taxes.'\n",
        "\n",
        "sentences = sent_tokenize(text=text_sample)\n",
        "\n",
        "print(type(sentences), len(sentences))\n",
        "print(sentences)"
      ],
      "metadata": {
        "colab": {
          "base_uri": "https://localhost:8080/"
        },
        "id": "LEo-fTOBohwH",
        "outputId": "514e639b-c7f9-43fd-daf8-001663dbf1db"
      },
      "execution_count": 1,
      "outputs": [
        {
          "output_type": "stream",
          "name": "stderr",
          "text": [
            "[nltk_data] Downloading package punkt to /root/nltk_data...\n",
            "[nltk_data]   Unzipping tokenizers/punkt.zip.\n"
          ]
        },
        {
          "output_type": "stream",
          "name": "stdout",
          "text": [
            "<class 'list'> 3\n",
            "['The Matrix is everywhere its all around us, here even in this room.', 'You can see it out your window or on your television.', 'You feel it when you go to work, or go to church or pay your taxes.']\n"
          ]
        }
      ]
    },
    {
      "cell_type": "markdown",
      "source": [
        "sent_tokenize가 반환하는 것은 각각의 문장으로 구성된 리스트 객체"
      ],
      "metadata": {
        "id": "HBR_up_yqHMj"
      }
    },
    {
      "cell_type": "markdown",
      "source": [
        "- 문장에서 단어를 토큰으로 분리하는 **단어 토큰화**\n",
        "\n",
        "  - 기본적으로 공백, 콤마(,), 마침표(.), 개행문자 등으로 단어를 분리하고 정규 표현식을 이용해 다양한 유형으로 토큰화를 수행할 수 있다.\n",
        "\n",
        "  - Bag of Word 같이 단어의 순서가 중요하지 않은 경우 단어 토큰화만 사용해도 충분하다.\n",
        "\n",
        "  - NLTK에서 제공하는 word_tokenize를 이용해 수행해보자"
      ],
      "metadata": {
        "id": "Yf-cChhgTYeQ"
      }
    },
    {
      "cell_type": "code",
      "execution_count": 2,
      "metadata": {
        "id": "daQ_xGEGMptY",
        "colab": {
          "base_uri": "https://localhost:8080/"
        },
        "outputId": "6e9f67b9-0009-460b-bf94-905ff1aa3a00"
      },
      "outputs": [
        {
          "output_type": "stream",
          "name": "stdout",
          "text": [
            "<class 'list'> 15\n",
            "['The', 'Matrix', 'is', 'everywhere', 'its', 'all', 'around', 'us', ',', 'here', 'even', 'in', 'this', 'room', '.']\n"
          ]
        }
      ],
      "source": [
        "from nltk import word_tokenize\n",
        "\n",
        "sentence = 'The Matrix is everywhere its all around us, here even in this room.'\n",
        "words = word_tokenize(sentence)\n",
        "print(type(words), len(words))\n",
        "print(words)"
      ]
    },
    {
      "cell_type": "markdown",
      "source": [
        "- 이번엔 sent_tokenize와 word_tokenize를 조합하여 문서에 대해 모든 단어를 토큰화해보자\n",
        "\n",
        "  - 3개의 문장으로 된 text_sample을 문장별로 단어 토큰화를 적용하기 위해 문서를 먼저 문장으로 나누고, 개별 문장을 다시 단어로 토큰화하는 tokenize_text() 함수를 생성하자"
      ],
      "metadata": {
        "id": "8mKzd30lr_dc"
      }
    },
    {
      "cell_type": "code",
      "source": [
        "def tokenize_text(text):\n",
        "  sentences = sent_tokenize(text)\n",
        "  word_tokens = [word_tokenize(sentence) for sentence in sentences]\n",
        "\n",
        "  return word_tokens\n",
        "\n",
        "word_tokens = tokenize_text(text_sample)\n",
        "print(type(word_tokens), len(word_tokens))\n",
        "print(word_tokens)"
      ],
      "metadata": {
        "colab": {
          "base_uri": "https://localhost:8080/"
        },
        "id": "Yl3LKnk6r7l0",
        "outputId": "3c9f50a5-0559-4940-9916-05cefdc2140a"
      },
      "execution_count": 3,
      "outputs": [
        {
          "output_type": "stream",
          "name": "stdout",
          "text": [
            "<class 'list'> 3\n",
            "[['The', 'Matrix', 'is', 'everywhere', 'its', 'all', 'around', 'us', ',', 'here', 'even', 'in', 'this', 'room', '.'], ['You', 'can', 'see', 'it', 'out', 'your', 'window', 'or', 'on', 'your', 'television', '.'], ['You', 'feel', 'it', 'when', 'you', 'go', 'to', 'work', ',', 'or', 'go', 'to', 'church', 'or', 'pay', 'your', 'taxes', '.']]\n"
          ]
        }
      ]
    },
    {
      "cell_type": "markdown",
      "source": [
        "문장을 단어별로 하나씩 토큰화할 경우 문맥적인 의미는 무시될 수 밖에 없다.\n",
        "\n",
        "이러한 문제를 해결하기 위해 도입된 것이 n-gramd이다."
      ],
      "metadata": {
        "id": "9VdBf5ySs_y4"
      }
    },
    {
      "cell_type": "markdown",
      "source": [
        "- n-gram은 연속된 n개의 단어를 하나의 토큰화 단위로 분리해 내는 것이다.\n",
        "\n",
        "- 예를 들어, \"Agent Smith knocks the door\"를 2-gram으로 만들면 (Agent, Smith), (Smith, knocks), (knocks, the), (the, door)와 같이 연속적으로 2개의 단어들을 순차적으로 이동하면서 단어들을 토큰화한다."
      ],
      "metadata": {
        "id": "P0auHj8fvdVz"
      }
    },
    {
      "cell_type": "markdown",
      "source": [
        "#### 스톱 워드 제거\n",
        "\n",
        "- 스톱 워드(stop word)는 분석에 큰 의미가 없는 단어를 지칭한다.\n",
        "\n",
        "- 예를 들어, 영어에서 is, the, a, will 등 문장을 구성하는 필수 문법 요소이지만 문맥적으로는 큰 의미가 없는 단어가 이에 해당된다.\n",
        "\n",
        "- 빈번하게 나오는 단어들이므로 사전에 제거하지 않으면 빈번함으로 인해 오히려 중요한 단어로 인지될 수 있다. 따라서 제거하는 것이 중요하다.\n",
        "\n",
        "- 언어별로 이런 스톱 워드가 목록화되어 있다."
      ],
      "metadata": {
        "id": "9jbor8Ucv-DM"
      }
    },
    {
      "cell_type": "code",
      "source": [
        "import nltk\n",
        "nltk.download('stopwords')"
      ],
      "metadata": {
        "colab": {
          "base_uri": "https://localhost:8080/"
        },
        "id": "OyqBGbGUs2Yb",
        "outputId": "f68e0203-3c55-4f55-ead4-16fa825ab484"
      },
      "execution_count": 4,
      "outputs": [
        {
          "output_type": "stream",
          "name": "stderr",
          "text": [
            "[nltk_data] Downloading package stopwords to /root/nltk_data...\n",
            "[nltk_data]   Unzipping corpora/stopwords.zip.\n"
          ]
        },
        {
          "output_type": "execute_result",
          "data": {
            "text/plain": [
              "True"
            ]
          },
          "metadata": {},
          "execution_count": 4
        }
      ]
    },
    {
      "cell_type": "code",
      "source": [
        "print('영어 stop words 개수:', len(nltk.corpus.stopwords.words('english')))\n",
        "print(nltk.corpus.stopwords.words('english')[:20])"
      ],
      "metadata": {
        "colab": {
          "base_uri": "https://localhost:8080/"
        },
        "id": "0VcbE1rs0N_c",
        "outputId": "031cad14-93e4-4a5b-b0ec-4299f33dd369"
      },
      "execution_count": 5,
      "outputs": [
        {
          "output_type": "stream",
          "name": "stdout",
          "text": [
            "영어 stop words 개수: 179\n",
            "['i', 'me', 'my', 'myself', 'we', 'our', 'ours', 'ourselves', 'you', \"you're\", \"you've\", \"you'll\", \"you'd\", 'your', 'yours', 'yourself', 'yourselves', 'he', 'him', 'his']\n"
          ]
        }
      ]
    },
    {
      "cell_type": "markdown",
      "source": [
        "위 예제에서 3개의 문장별로 단어를 토큰화한 word_tokens 리스트에 대해서 stopwords로 필터링해보자"
      ],
      "metadata": {
        "id": "AjhropZa0ihm"
      }
    },
    {
      "cell_type": "code",
      "source": [
        "import nltk\n",
        "\n",
        "stopwords = nltk.corpus.stopwords.words('english')\n",
        "all_tokens = []\n",
        "# 위 예제의 3개의 문장별로 얻은 word_tokens list 에 대해 stop word 제거 Loop\n",
        "for sentence in word_tokens:\n",
        "    filtered_words=[]\n",
        "    # 개별 문장별로 tokenize된 sentence list에 대해 stop word 제거 Loop\n",
        "    for word in sentence:\n",
        "        #소문자로 모두 변환합니다.\n",
        "        word = word.lower()\n",
        "        # tokenize 된 개별 word가 stop words 들의 단어에 포함되지 않으면 word_tokens에 추가\n",
        "        if word not in stopwords:\n",
        "            filtered_words.append(word)\n",
        "    all_tokens.append(filtered_words)\n",
        "\n",
        "print(all_tokens)"
      ],
      "metadata": {
        "colab": {
          "base_uri": "https://localhost:8080/"
        },
        "id": "SRgGlkMC0eNI",
        "outputId": "1c06bd02-6097-4b19-b4b0-44bf3fcf8a0e"
      },
      "execution_count": 9,
      "outputs": [
        {
          "output_type": "stream",
          "name": "stdout",
          "text": [
            "[['matrix', 'everywhere', 'around', 'us', ',', 'even', 'room', '.'], ['see', 'window', 'television', '.'], ['feel', 'go', 'work', ',', 'go', 'church', 'pay', 'taxes', '.']]\n"
          ]
        }
      ]
    },
    {
      "cell_type": "markdown",
      "source": [
        "is, this 같은 스톱 워드가 제거됐음을 알 수 있다"
      ],
      "metadata": {
        "id": "lGV4HOwQKxUp"
      }
    },
    {
      "cell_type": "markdown",
      "source": [
        "#### Stemming과 Lemmatization\n",
        "\n",
        "- 많은 언어에서 문법적인 요소에 따라 단어가 다양하게 변한다.\n",
        "\n",
        "- Stemming과 Lemmatization는 문법적, 의미적으로 변화하는 단어의 원형을 찾는 것이다.\n",
        "\n",
        "- Lemmatization이 Stemming보다 정교하며 의미론적인 기반에서 단어의 원형을 찾는다.\n",
        "\n",
        "  - Stemming은 원형 단어로 변환 시 일반적인 방법을 적용하거나 더 단순화된 방법을 적용해 원래 단어에서 일부 철자가 훼손된 어근 단어를 추출하는 경향이 있다.\n",
        "\n",
        "  - 이에 비해 Lemmatization은 품사와 같은 문법적인 요소와 더 의미적인 부분을 감안해 정확한 철자로 된 어근 단어를 찾아준다. → Stemming보다 변환이 더 오래 걸림\n",
        "\n",
        "- NLTK는 다양한 Stemmer를 제공함 → Porter, Lancaster, Snowball Stemmer\n",
        "\n",
        "- Lemmatization을 위한 WordNetLemmatizer 제공"
      ],
      "metadata": {
        "id": "PqpD39dtK1dH"
      }
    },
    {
      "cell_type": "markdown",
      "source": [
        "진행형, 3인칭 단수, 과거형에 따른 동사, 비교/최상급에 따른 형용사 변화 등에 따라 Stemming은 더 단순하게 원형 단어를 찾아준다.\n",
        "\n",
        "LancasterStemmer()와 같은 Stemmer 객체를 생성하고 stem('단어') 메서드를 호출하면 원하는 '단어'의 Stemming이 가능하다."
      ],
      "metadata": {
        "id": "jQZ1UuzDNqDV"
      }
    },
    {
      "cell_type": "code",
      "source": [
        "from nltk.stem import LancasterStemmer\n",
        "stemmer = LancasterStemmer()\n",
        "\n",
        "print(stemmer.stem('working'), stemmer.stem('works'), stemmer.stem('worked'))\n",
        "print(stemmer.stem('amusing'), stemmer.stem('amuses'), stemmer.stem('amused'))\n",
        "print(stemmer.stem('happier'), stemmer.stem('happiest'))\n",
        "print(stemmer.stem('fancier'), stemmer.stem('fanciest'))"
      ],
      "metadata": {
        "colab": {
          "base_uri": "https://localhost:8080/"
        },
        "id": "451bhqjgJevD",
        "outputId": "dadcecee-cc79-4ce9-c12c-58d25b002a9b"
      },
      "execution_count": 10,
      "outputs": [
        {
          "output_type": "stream",
          "name": "stdout",
          "text": [
            "work work work\n",
            "amus amus amus\n",
            "happy happiest\n",
            "fant fanciest\n"
          ]
        }
      ]
    },
    {
      "cell_type": "markdown",
      "source": [
        "work의 경우는 모두 기본 단어에서 ing, s, ed가 붙는 단순한 변화이므로 원형 단어를 제대로 인식한다.\n",
        "\n",
        "그러나, amuse의 경우는 amus에 ing, s, ed가 붙으므로 정확한 단어인 amuse로 인식하지는 못한다.\n",
        "\n",
        "형용사인 happy, fancy의 경우도 비교급, 최상급으로 변형된 단어의 정확한 원형을 찾지 못한다.\n",
        "\n",
        "따라서, 이번에는 WordNetLemmatizer로 수행해보자"
      ],
      "metadata": {
        "id": "LwZhHShdOvop"
      }
    },
    {
      "cell_type": "code",
      "source": [
        "from nltk.stem import WordNetLemmatizer\n",
        "import nltk\n",
        "nltk.download('wordnet')\n",
        "\n",
        "lemma = WordNetLemmatizer()\n",
        "\n",
        "#보다 정확한 원형 추출을 위해 단어의 '품사'를 입력해주고 lemmatize의 파라미터로 동사면 'v', 형용사면 'a'를 입력해야함\n",
        "print(lemma.lemmatize('amusing', 'v'), lemma.lemmatize('amuses', 'v'), lemma.lemmatize('amused', 'v'))\n",
        "print(lemma.lemmatize('happier', 'a'), lemma.lemmatize('happiest', 'a'))\n",
        "print(lemma.lemmatize('fancier', 'a'), lemma.lemmatize('fanciest', 'a'))"
      ],
      "metadata": {
        "colab": {
          "base_uri": "https://localhost:8080/"
        },
        "id": "oZwFLlOQOsuc",
        "outputId": "24086490-3488-425a-e2bb-79d8473f3818"
      },
      "execution_count": 11,
      "outputs": [
        {
          "output_type": "stream",
          "name": "stderr",
          "text": [
            "[nltk_data] Downloading package wordnet to /root/nltk_data...\n"
          ]
        },
        {
          "output_type": "stream",
          "name": "stdout",
          "text": [
            "amuse amuse amuse\n",
            "happy happy\n",
            "fancy fancy\n"
          ]
        }
      ]
    },
    {
      "cell_type": "markdown",
      "source": [
        "Stemmer보다 정확하게 원형 단어를 추출해줌을 알 수 있다."
      ],
      "metadata": {
        "id": "ol1l6CS3RA4R"
      }
    }
  ]
}