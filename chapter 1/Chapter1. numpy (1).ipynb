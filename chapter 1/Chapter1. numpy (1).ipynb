{
 "cells": [
  {
   "cell_type": "markdown",
   "id": "bee6b5da",
   "metadata": {},
   "source": [
    "### 넘파이 ndarray 개요\n",
    "\n",
    "- ndarray를 이용해 넘파이에서 다차원 배열을 쉽게 생성, 다양한 연산 수행"
   ]
  },
  {
   "cell_type": "code",
   "execution_count": 1,
   "id": "7ac57dd8",
   "metadata": {},
   "outputs": [
    {
     "name": "stdout",
     "output_type": "stream",
     "text": [
      "array1 type:  <class 'numpy.ndarray'>\n",
      "array1 array 형태: (3,)\n",
      "array2 type: <class 'numpy.ndarray'>\n",
      "array2 array 형태: (2, 3)\n",
      "array3 type:  <class 'numpy.ndarray'>\n",
      "array3 array 형태: (1, 3)\n"
     ]
    }
   ],
   "source": [
    "import numpy as np\n",
    "\n",
    "array1 = np.array([1, 2, 3])\n",
    "print('array1 type: ', type(array1))\n",
    "print('array1 array 형태:', array1.shape)\n",
    "\n",
    "array2 = np.array([[1, 2, 3], [2, 3, 4]])\n",
    "print('array2 type:', type(array2))\n",
    "print('array2 array 형태:', array2.shape)\n",
    "\n",
    "array3 = np.array([[1, 2, 3]])\n",
    "print('array3 type: ', type(array3))\n",
    "print('array3 array 형태:', array3.shape)"
   ]
  },
  {
   "cell_type": "markdown",
   "id": "4f2329c9",
   "metadata": {},
   "source": [
    "- (3,)은 1차원 array로 3개의 데이터를 가짐\n",
    "\n",
    "\n",
    "- (2, 3)은 2차원 array로, 2개의 row와 3개의 column, 6개의 데이터를 가짐\n",
    "\n",
    "\n",
    "- (1, 3)은 2차원 array, 1개의 row와 3개의 column\n",
    "\n",
    "\n",
    "* 데이터값은 서로 동일하나 차원이 달라서 오류가 발생하는 경우가 빈번하므로 차원의 차수를 변환하는 방법을 명확히 알아야 함"
   ]
  },
  {
   "cell_type": "code",
   "execution_count": 3,
   "id": "dad3680a",
   "metadata": {},
   "outputs": [
    {
     "name": "stdout",
     "output_type": "stream",
     "text": [
      "array1: 1차원, array2: 2차원, array3: 2차원\n"
     ]
    }
   ],
   "source": [
    "#각 array의 차원을 ndarray.ndim으로 확인하기\n",
    "\n",
    "print('array1: {0}차원, array2: {1}차원, array3: {2}차원'.format(array1.ndim, array2.ndim, array3.ndim))"
   ]
  },
  {
   "cell_type": "markdown",
   "id": "519cd161",
   "metadata": {},
   "source": [
    "- array()의 인자로는 리스트가 주로 사용됌, [[ ]]는 2차원과 같은 형태로 쉽게 표현할 수 있기 때문"
   ]
  },
  {
   "cell_type": "markdown",
   "id": "2c33202d",
   "metadata": {},
   "source": [
    "### ndarray의 데이터타입"
   ]
  },
  {
   "cell_type": "markdown",
   "id": "19f56332",
   "metadata": {},
   "source": [
    "- ndarray내의 데이터 타입은 그 연산의 특성상 같은 데이터 타입만 가능(int와 float이 같이 있을 수 없음)"
   ]
  },
  {
   "cell_type": "code",
   "execution_count": 4,
   "id": "e71cfb3a",
   "metadata": {},
   "outputs": [
    {
     "name": "stdout",
     "output_type": "stream",
     "text": [
      "<class 'list'>\n",
      "<class 'numpy.ndarray'>\n",
      "[1 2 3] int32\n"
     ]
    }
   ],
   "source": [
    "list1 = [1, 2, 3]\n",
    "print(type(list1))\n",
    "array1 = np.array(list1)\n",
    "print(type(array1))\n",
    "print(array1, array1.dtype)"
   ]
  },
  {
   "cell_type": "markdown",
   "id": "50fc334e",
   "metadata": {},
   "source": [
    "- 다른 데이터 타입이 섞여있는 리스트를 ndarray로 변경하면 크기가 더 큰 데이터 타입으로 일괄 변환 적용됌"
   ]
  },
  {
   "cell_type": "code",
   "execution_count": 5,
   "id": "1566a50a",
   "metadata": {},
   "outputs": [
    {
     "name": "stdout",
     "output_type": "stream",
     "text": [
      "['1' '2' 'test'] <U11\n",
      "[1. 2. 3.] float64\n"
     ]
    }
   ],
   "source": [
    "list2 = [1, 2, 'test']\n",
    "array2 = np.array(list2)\n",
    "print(array2, array2.dtype)\n",
    "\n",
    "list3 = [1, 2, 3.0]\n",
    "array3 = np.array(list3)\n",
    "print(array3, array3.dtype)"
   ]
  },
  {
   "cell_type": "markdown",
   "id": "559577b4",
   "metadata": {},
   "source": [
    "- ndarray내 데이터값의 타입 변경은 astype()으로 가능"
   ]
  },
  {
   "cell_type": "code",
   "execution_count": 7,
   "id": "edad5d83",
   "metadata": {},
   "outputs": [
    {
     "name": "stdout",
     "output_type": "stream",
     "text": [
      "[1. 2. 3.] float64\n",
      "[1 2 3] int32\n",
      "[1 2 3] int32\n"
     ]
    }
   ],
   "source": [
    "array_int = np.array([1, 2, 3])\n",
    "array_float = array_int.astype('float64')\n",
    "print(array_float, array_float.dtype)\n",
    "\n",
    "array_int1 = array_float.astype('int32')\n",
    "print(array_int1, array_int1.dtype)\n",
    "\n",
    "array_float1 = np.array([1.1, 2.1, 3.1])\n",
    "array_int2 = array_float1.astype('int32')\n",
    "print(array_int2, array_int2.dtype)"
   ]
  }
 ],
 "metadata": {
  "kernelspec": {
   "display_name": "Python 3 (ipykernel)",
   "language": "python",
   "name": "python3"
  },
  "language_info": {
   "codemirror_mode": {
    "name": "ipython",
    "version": 3
   },
   "file_extension": ".py",
   "mimetype": "text/x-python",
   "name": "python",
   "nbconvert_exporter": "python",
   "pygments_lexer": "ipython3",
   "version": "3.10.9"
  }
 },
 "nbformat": 4,
 "nbformat_minor": 5
}
