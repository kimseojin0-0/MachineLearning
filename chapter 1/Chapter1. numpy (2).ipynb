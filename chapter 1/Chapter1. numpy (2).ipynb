{
 "cells": [
  {
   "cell_type": "markdown",
   "id": "4db0d67a",
   "metadata": {},
   "source": [
    "### ndarray를 편리하게 생성하기 - arrange, zeros, ones"
   ]
  },
  {
   "cell_type": "markdown",
   "id": "9ee48698",
   "metadata": {},
   "source": [
    "- arange는 range와 유사한 기능, array를 range로 표현하는 것\n",
    "\n",
    "\n",
    "- 디폴트 인자는 stop값, 0부터 9까지 1차원 ndarray를 만듬, start값도 부여 가능"
   ]
  },
  {
   "cell_type": "code",
   "execution_count": 4,
   "id": "8447df6b",
   "metadata": {},
   "outputs": [
    {
     "name": "stdout",
     "output_type": "stream",
     "text": [
      "[0 1 2 3 4 5 6 7 8 9]\n",
      "int32 (10,)\n"
     ]
    }
   ],
   "source": [
    "import numpy as np\n",
    "\n",
    "sequence_array = np.arange(10)\n",
    "print(sequence_array)\n",
    "print(sequence_array.dtype, sequence_array.shape)"
   ]
  },
  {
   "cell_type": "markdown",
   "id": "495fd430",
   "metadata": {},
   "source": [
    "- zeros는 튜플로 shape값을 입력하면 모든 값을 0으로 채운 해당 shape을 반환\n",
    "\n",
    "\n",
    "- ones는 튜플로 입력하면 모두 1로 반환, dtype을 정해주지 않으면 디폴트는 float값"
   ]
  },
  {
   "cell_type": "code",
   "execution_count": 5,
   "id": "561cab9e",
   "metadata": {},
   "outputs": [
    {
     "name": "stdout",
     "output_type": "stream",
     "text": [
      "[[0 0]\n",
      " [0 0]\n",
      " [0 0]]\n",
      "int32 (3, 2)\n"
     ]
    }
   ],
   "source": [
    "zero_array = np.zeros((3, 2), dtype='int32')\n",
    "print(zero_array)\n",
    "print(zero_array.dtype, zero_array.shape)"
   ]
  },
  {
   "cell_type": "code",
   "execution_count": 7,
   "id": "ad5f0be8",
   "metadata": {},
   "outputs": [
    {
     "name": "stdout",
     "output_type": "stream",
     "text": [
      "[[1. 1.]\n",
      " [1. 1.]\n",
      " [1. 1.]]\n",
      "float64 (3, 2)\n"
     ]
    }
   ],
   "source": [
    "ones_array = np.ones((3, 2))\n",
    "print(ones_array)\n",
    "print(ones_array.dtype, ones_array.shape)"
   ]
  },
  {
   "cell_type": "markdown",
   "id": "65387ab8",
   "metadata": {},
   "source": [
    "### ndarray의 차원과 크기를 변경하는 reshape()"
   ]
  },
  {
   "cell_type": "markdown",
   "id": "7c84b432",
   "metadata": {},
   "source": [
    "- reshape는 ndarray를 특정 차원 및 크기로 변환, 원하는 크기를 인자로 입력\n",
    "\n",
    "\n",
    "- (!0,)데이터를 (4,3)으로 변환할 수 없음 >> 지정된 사이즈로 변경 불가하면 오류 뜸"
   ]
  },
  {
   "cell_type": "code",
   "execution_count": 8,
   "id": "897451a5",
   "metadata": {},
   "outputs": [
    {
     "name": "stdout",
     "output_type": "stream",
     "text": [
      "array1: \n",
      " [0 1 2 3 4 5 6 7 8 9]\n",
      "array2: \n",
      " [[0 1 2 3 4]\n",
      " [5 6 7 8 9]]\n",
      "array3: \n",
      " [[0 1]\n",
      " [2 3]\n",
      " [4 5]\n",
      " [6 7]\n",
      " [8 9]]\n"
     ]
    }
   ],
   "source": [
    "array1 = np.arange(10)\n",
    "print('array1: \\n', array1)\n",
    "\n",
    "array2 = array1.reshape(2, 5)\n",
    "print('array2: \\n', array2)\n",
    "\n",
    "array3 = array1.reshape(5, 2)\n",
    "print('array3: \\n', array3)"
   ]
  },
  {
   "cell_type": "code",
   "execution_count": 9,
   "id": "059fa380",
   "metadata": {},
   "outputs": [
    {
     "ename": "ValueError",
     "evalue": "cannot reshape array of size 10 into shape (4,3)",
     "output_type": "error",
     "traceback": [
      "\u001b[1;31m---------------------------------------------------------------------------\u001b[0m",
      "\u001b[1;31mValueError\u001b[0m                                Traceback (most recent call last)",
      "\u001b[1;32m~\\AppData\\Local\\Temp\\ipykernel_19452\\1938297127.py\u001b[0m in \u001b[0;36m<module>\u001b[1;34m\u001b[0m\n\u001b[1;32m----> 1\u001b[1;33m \u001b[0marray1\u001b[0m\u001b[1;33m.\u001b[0m\u001b[0mreshape\u001b[0m\u001b[1;33m(\u001b[0m\u001b[1;36m4\u001b[0m\u001b[1;33m,\u001b[0m\u001b[1;36m3\u001b[0m\u001b[1;33m)\u001b[0m\u001b[1;33m\u001b[0m\u001b[1;33m\u001b[0m\u001b[0m\n\u001b[0m",
      "\u001b[1;31mValueError\u001b[0m: cannot reshape array of size 10 into shape (4,3)"
     ]
    }
   ],
   "source": [
    "array1.reshape(4,3)"
   ]
  },
  {
   "cell_type": "markdown",
   "id": "cb951ba1",
   "metadata": {},
   "source": [
    "- reshape을 실전에서 효율적으로 쓰는 경우는 인자에 -1 적용하는 경우, -1을 사용하면 원래 ndarray와 호환되는 새로운 shape로 변환해줌"
   ]
  },
  {
   "cell_type": "code",
   "execution_count": 10,
   "id": "f7925aa7",
   "metadata": {},
   "outputs": [
    {
     "name": "stdout",
     "output_type": "stream",
     "text": [
      "[0 1 2 3 4 5 6 7 8 9]\n",
      "array2 shape: (2, 5)\n",
      "array3 shape: (5, 2)\n"
     ]
    }
   ],
   "source": [
    "array1 = np.arange(10)\n",
    "print(array1)\n",
    "array2 = array1.reshape(-1, 5)   #고정된 5개의 column에 맞는 row를 자동으로 새로 생성하라는 의미\n",
    "print('array2 shape:', array2.shape)\n",
    "array3 = array1.reshape(5, -1)   #고정된 5개의 row에 맞춰라\n",
    "print('array3 shape:', array3.shape)"
   ]
  },
  {
   "cell_type": "code",
   "execution_count": 11,
   "id": "19498f2a",
   "metadata": {},
   "outputs": [
    {
     "ename": "ValueError",
     "evalue": "cannot reshape array of size 10 into shape (4)",
     "output_type": "error",
     "traceback": [
      "\u001b[1;31m---------------------------------------------------------------------------\u001b[0m",
      "\u001b[1;31mValueError\u001b[0m                                Traceback (most recent call last)",
      "\u001b[1;32m~\\AppData\\Local\\Temp\\ipykernel_19452\\3765126453.py\u001b[0m in \u001b[0;36m<module>\u001b[1;34m\u001b[0m\n\u001b[0;32m      1\u001b[0m \u001b[1;31m#10개의 1차원 데이터를 고정된 4개 column에 맞출 순 없음, 에러 발생 경우\u001b[0m\u001b[1;33m\u001b[0m\u001b[1;33m\u001b[0m\u001b[0m\n\u001b[0;32m      2\u001b[0m \u001b[0marray1\u001b[0m \u001b[1;33m=\u001b[0m \u001b[0mnp\u001b[0m\u001b[1;33m.\u001b[0m\u001b[0marange\u001b[0m\u001b[1;33m(\u001b[0m\u001b[1;36m10\u001b[0m\u001b[1;33m)\u001b[0m\u001b[1;33m\u001b[0m\u001b[1;33m\u001b[0m\u001b[0m\n\u001b[1;32m----> 3\u001b[1;33m \u001b[0marray2\u001b[0m \u001b[1;33m=\u001b[0m \u001b[0marray1\u001b[0m\u001b[1;33m.\u001b[0m\u001b[0mreshape\u001b[0m\u001b[1;33m(\u001b[0m\u001b[1;33m-\u001b[0m\u001b[1;36m1\u001b[0m\u001b[1;33m,\u001b[0m \u001b[1;36m4\u001b[0m\u001b[1;33m)\u001b[0m\u001b[1;33m\u001b[0m\u001b[1;33m\u001b[0m\u001b[0m\n\u001b[0m",
      "\u001b[1;31mValueError\u001b[0m: cannot reshape array of size 10 into shape (4)"
     ]
    }
   ],
   "source": [
    "#10개의 1차원 데이터를 고정된 4개 column에 맞출 순 없음, 에러 발생 경우\n",
    "array1 = np.arange(10)\n",
    "array2 = array1.reshape(-1, 4)"
   ]
  },
  {
   "cell_type": "markdown",
   "id": "bafe8a6e",
   "metadata": {},
   "source": [
    "- reshape(-1,1)과 같은 형태로 자주 사용, 반드시 1개의 column을 가진 ndarray로 변환함을 보장\n",
    "\n",
    "\n",
    "- 여러개의 ndarray를 stack이나 concat으로 결합할 때 형태 통일해서 유용하게 사용"
   ]
  },
  {
   "cell_type": "code",
   "execution_count": 13,
   "id": "c2e73684",
   "metadata": {},
   "outputs": [
    {
     "name": "stdout",
     "output_type": "stream",
     "text": [
      "array3d: \n",
      " [[[0, 1], [2, 3]], [[4, 5], [6, 7]]]\n",
      "array5: \n",
      " [[0], [1], [2], [3], [4], [5], [6], [7]]\n",
      "array5 shape: (8, 1)\n",
      "array6: \n",
      " [[0], [1], [2], [3], [4], [5], [6], [7]]\n",
      "array6 shape (8, 1)\n"
     ]
    }
   ],
   "source": [
    "array1 = np.arange(8)\n",
    "array3d = array1.reshape((2,2,2))\n",
    "print('array3d: \\n', array3d.tolist())\n",
    "\n",
    "#3차원 ndarray를 2차원으로 변환\n",
    "array5 = array3d.reshape(-1,1)\n",
    "print('array5: \\n', array5.tolist())\n",
    "print('array5 shape:', array5.shape)\n",
    "\n",
    "#1차원을 2차원으로 변환\n",
    "array6 = array1.reshape(-1,1)\n",
    "print('array6: \\n', array6.tolist())\n",
    "print('array6 shape', array6.shape)"
   ]
  },
  {
   "cell_type": "markdown",
   "id": "b570207b",
   "metadata": {},
   "source": [
    "### 넘파이의 ndarray의 데이터 세트 선택하기 - 인덱싱(indexing)"
   ]
  },
  {
   "cell_type": "markdown",
   "id": "2e4dd2ab",
   "metadata": {},
   "source": [
    "#### 1. 단일 값 추출"
   ]
  },
  {
   "cell_type": "code",
   "execution_count": 14,
   "id": "6d4165b6",
   "metadata": {},
   "outputs": [
    {
     "name": "stdout",
     "output_type": "stream",
     "text": [
      "array1: [1 2 3 4 5 6 7 8 9]\n",
      "value: 3\n",
      "<class 'numpy.int32'>\n"
     ]
    }
   ],
   "source": [
    "array1 = np.arange(start=1, stop=10)\n",
    "print('array1:', array1)\n",
    "\n",
    "value = array1[2]  #3번째 index위치의 데이터\n",
    "print('value:', value)\n",
    "print(type(value))  #이제 ndarray가 아니라 ndarray내의 데이터값임을 의미\n"
   ]
  },
  {
   "cell_type": "code",
   "execution_count": 16,
   "id": "66193f0e",
   "metadata": {},
   "outputs": [
    {
     "name": "stdout",
     "output_type": "stream",
     "text": [
      "array1: [9 2 3 4 5 6 7 8 0]\n"
     ]
    }
   ],
   "source": [
    "#데이터값 수정하기\n",
    "array1[0] = 9\n",
    "array1[8] = 0\n",
    "print('array1:', array1)"
   ]
  },
  {
   "cell_type": "code",
   "execution_count": 17,
   "id": "f33cc7f6",
   "metadata": {},
   "outputs": [
    {
     "name": "stdout",
     "output_type": "stream",
     "text": [
      "[[1 2 3]\n",
      " [4 5 6]\n",
      " [7 8 9]]\n",
      "(row=0, col=0) index 가리키는 값: 1\n",
      "(row=0, col=1) index 가리키는 값: 2\n",
      "(row=1, col=0) index 가리키는 값: 4\n",
      "(row=2, col=2) index 가리키는 값: 9\n"
     ]
    }
   ],
   "source": [
    "#다차원 ndarray에서 단일 값 추출\n",
    "array1d = np.arange(start=1, stop=10)\n",
    "array2d = array1d.reshape(3,3)\n",
    "print(array2d)\n",
    "\n",
    "print('(row=0, col=0) index 가리키는 값:', array2d[0, 0])\n",
    "print('(row=0, col=1) index 가리키는 값:', array2d[0, 1])\n",
    "print('(row=1, col=0) index 가리키는 값:', array2d[1, 0])\n",
    "print('(row=2, col=2) index 가리키는 값:', array2d[2, 2])"
   ]
  },
  {
   "cell_type": "markdown",
   "id": "5635c93f",
   "metadata": {},
   "source": [
    "- 정확한 표현은 row, column보다는 axis0, axis1 이 맞음"
   ]
  },
  {
   "cell_type": "markdown",
   "id": "c76e143f",
   "metadata": {},
   "source": [
    "#### 2. 슬라이싱 slicing"
   ]
  },
  {
   "cell_type": "code",
   "execution_count": 18,
   "id": "7b8bb7ac",
   "metadata": {},
   "outputs": [
    {
     "name": "stdout",
     "output_type": "stream",
     "text": [
      "[1 2 3]\n",
      "<class 'numpy.ndarray'>\n"
     ]
    }
   ],
   "source": [
    "array1 = np.arange(start=1, stop=10)\n",
    "array3 = array1[0:3]\n",
    "print(array3)\n",
    "print(type(array3))"
   ]
  },
  {
   "cell_type": "code",
   "execution_count": 19,
   "id": "a09b4555",
   "metadata": {},
   "outputs": [
    {
     "name": "stdout",
     "output_type": "stream",
     "text": [
      "array2d:\n",
      " [[1 2 3]\n",
      " [4 5 6]\n",
      " [7 8 9]]\n",
      "array2d[0:2, 0:2] \n",
      " [[1 2]\n",
      " [4 5]]\n",
      "array2d[1:3, 0:3] \n",
      " [[4 5 6]\n",
      " [7 8 9]]\n",
      "array2d[1:3, :] \n",
      " [[4 5 6]\n",
      " [7 8 9]]\n",
      "array2d[:, :] \n",
      " [[1 2 3]\n",
      " [4 5 6]\n",
      " [7 8 9]]\n",
      "array2d[:2, 1:] \n",
      " [[2 3]\n",
      " [5 6]]\n",
      "array2d[:2, 0] \n",
      " [1 4]\n"
     ]
    }
   ],
   "source": [
    "#2차원 ndarray에서 슬라이싱하기\n",
    "array1d = np.arange(start=1, stop=10)\n",
    "array2d = array1d.reshape(3,3)\n",
    "print('array2d:\\n', array2d)\n",
    "\n",
    "print('array2d[0:2, 0:2] \\n', array2d[0:2, 0:2])\n",
    "print('array2d[1:3, 0:3] \\n', array2d[1:3, 0:3])\n",
    "print('array2d[1:3, :] \\n', array2d[1:3, :])\n",
    "print('array2d[:, :] \\n', array2d[:, :])\n",
    "print('array2d[:2, 1:] \\n', array2d[:2, 1:])\n",
    "print('array2d[:2, 0] \\n', array2d[:2, 0])\n"
   ]
  },
  {
   "cell_type": "code",
   "execution_count": 21,
   "id": "837ff4a7",
   "metadata": {},
   "outputs": [
    {
     "name": "stdout",
     "output_type": "stream",
     "text": [
      "[1 2 3]\n",
      "[4 5 6]\n",
      "array2d[0] shape: (3,) array2d[1] shape: (3,)\n"
     ]
    }
   ],
   "source": [
    "print(array2d[0])\n",
    "print(array2d[1])\n",
    "print('array2d[0] shape:', array2d[0].shape, 'array2d[1] shape:', array2d[1].shape)"
   ]
  },
  {
   "cell_type": "markdown",
   "id": "5ec06cf7",
   "metadata": {},
   "source": [
    "#### 3. 팬시 인덱싱 fancy indexing"
   ]
  },
  {
   "cell_type": "code",
   "execution_count": 22,
   "id": "43ef9827",
   "metadata": {},
   "outputs": [
    {
     "name": "stdout",
     "output_type": "stream",
     "text": [
      "array2d[[0, 1], 2] =>  [3, 6]\n",
      "array2d[[0, 1], 0:2] =>  [[1, 2], [4, 5]]\n",
      "array2d[[0, 1]] =>  [[1, 2, 3], [4, 5, 6]]\n"
     ]
    }
   ],
   "source": [
    "array1d = np.arange(start=1, stop=10)\n",
    "array2d = array1d.reshape(3,3)\n",
    "\n",
    "array3 = array2d[[0, 1], 2]\n",
    "print('array2d[[0, 1], 2] => ', array3.tolist())\n",
    "\n",
    "array4 = array2d[[0, 1], 0:2]\n",
    "print('array2d[[0, 1], 0:2] => ', array4.tolist())\n",
    "\n",
    "array5 = array2d[[0, 1]]\n",
    "print('array2d[[0, 1]] => ', array5.tolist())\n"
   ]
  },
  {
   "cell_type": "markdown",
   "id": "6cbd0b83",
   "metadata": {},
   "source": [
    "#### 4. 불린 인덱싱 boolean indexing"
   ]
  },
  {
   "cell_type": "markdown",
   "id": "ffd86466",
   "metadata": {},
   "source": [
    "- 조건 필터링과 검색을 동시에 할 수 있음\n",
    "\n",
    "\n",
    "- 인덱스를 지정하는 []내에 조건문을 그대로 쓰면됌"
   ]
  },
  {
   "cell_type": "code",
   "execution_count": 23,
   "id": "99c0566c",
   "metadata": {},
   "outputs": [
    {
     "name": "stdout",
     "output_type": "stream",
     "text": [
      "array1d > 5 불린 인덱싱 값: [6 7 8 9]\n"
     ]
    }
   ],
   "source": [
    "array1d = np.arange(start=1, stop=10)\n",
    "#[]안에 array1d > 5 Boolean indexing을 적용\n",
    "array3 = array1d[array1d > 5]\n",
    "print('array1d > 5 불린 인덱싱 값:', array3)"
   ]
  },
  {
   "cell_type": "code",
   "execution_count": 25,
   "id": "6e18eaec",
   "metadata": {},
   "outputs": [
    {
     "data": {
      "text/plain": [
       "array([False, False, False, False, False,  True,  True,  True,  True])"
      ]
     },
     "execution_count": 25,
     "metadata": {},
     "output_type": "execute_result"
    }
   ],
   "source": [
    "array1d > 5\n",
    "#5보다 큰 데이터있는 위치에는 True 반환, 이 조건 자체를 []안에 입력하면 False값은 무시하고 True만 자동 변환해서 반환"
   ]
  },
  {
   "cell_type": "code",
   "execution_count": 26,
   "id": "f0e3281a",
   "metadata": {},
   "outputs": [
    {
     "name": "stdout",
     "output_type": "stream",
     "text": [
      "불린 인덱스로 필터링 결과: [6 7 8 9]\n"
     ]
    }
   ],
   "source": [
    "boolean_indexes = np.array([False, False, False, False, False,  True,  True,  True,  True])\n",
    "array3 = array1d[boolean_indexes]\n",
    "print('불린 인덱스로 필터링 결과:', array3)"
   ]
  },
  {
   "cell_type": "code",
   "execution_count": 27,
   "id": "96b73811",
   "metadata": {},
   "outputs": [
    {
     "name": "stdout",
     "output_type": "stream",
     "text": [
      "일반 인덱스로 필터링 결과: [6 7 8 9]\n"
     ]
    }
   ],
   "source": [
    "#직접 인덱스 집합을 만들어 대입한 것과 동일\n",
    "indexes = np.array([5, 6, 7, 8])\n",
    "array4 = array1d[indexes]\n",
    "print('일반 인덱스로 필터링 결과:', array4)"
   ]
  }
 ],
 "metadata": {
  "kernelspec": {
   "display_name": "Python 3 (ipykernel)",
   "language": "python",
   "name": "python3"
  },
  "language_info": {
   "codemirror_mode": {
    "name": "ipython",
    "version": 3
   },
   "file_extension": ".py",
   "mimetype": "text/x-python",
   "name": "python",
   "nbconvert_exporter": "python",
   "pygments_lexer": "ipython3",
   "version": "3.10.9"
  }
 },
 "nbformat": 4,
 "nbformat_minor": 5
}
