{
 "cells": [
  {
   "cell_type": "markdown",
   "id": "d221aaad",
   "metadata": {},
   "source": [
    "### 행렬의 정렬 - sort()와 argsort()"
   ]
  },
  {
   "cell_type": "markdown",
   "id": "192b7d80",
   "metadata": {},
   "source": [
    "- sort는 원 행렬은 그대로 유지, 원 행렬의 정렬된 행렬을 반환\n",
    "\n",
    "\n",
    "- argsort는 원 핼영 자체를 정렬한 형태로 변환, 반환값은 None"
   ]
  },
  {
   "cell_type": "code",
   "execution_count": 1,
   "id": "46e936ba",
   "metadata": {},
   "outputs": [
    {
     "name": "stdout",
     "output_type": "stream",
     "text": [
      "원본 행렬: [3 1 9 5]\n",
      "np.sort() 호출 후 반환된 정렬 행렬: [1 3 5 9]\n",
      "np.sort() 호출 후 원본 행렬: [3 1 9 5]\n",
      "org_array.sort() 호출 후 반환된 행렬: None\n",
      "org_array.sort() 호출 후 원본 행렬: [1 3 5 9]\n"
     ]
    }
   ],
   "source": [
    "import numpy as np\n",
    "\n",
    "org_array = np.array([3, 1, 9, 5])\n",
    "print('원본 행렬:', org_array)\n",
    "\n",
    "#sort로 정렬\n",
    "sort_array1 = np.sort(org_array)\n",
    "print('np.sort() 호출 후 반환된 정렬 행렬:', sort_array1)\n",
    "print('np.sort() 호출 후 원본 행렬:', org_array)\n",
    "\n",
    "#ndarray.sort로 정렬\n",
    "sort_array2 = org_array.sort()\n",
    "print('org_array.sort() 호출 후 반환된 행렬:', sort_array2)\n",
    "print('org_array.sort() 호출 후 원본 행렬:', org_array)"
   ]
  },
  {
   "cell_type": "markdown",
   "id": "4fa84cdf",
   "metadata": {},
   "source": [
    "- 내림차순 정렬은 np.sort()[::-1]와 같이 적용"
   ]
  },
  {
   "cell_type": "code",
   "execution_count": 2,
   "id": "fcac6f6f",
   "metadata": {},
   "outputs": [
    {
     "name": "stdout",
     "output_type": "stream",
     "text": [
      "내림차순으로 정렬: [9 5 3 1]\n"
     ]
    }
   ],
   "source": [
    "sort_array1_desc = np.sort(org_array)[::-1]\n",
    "print('내림차순으로 정렬:', sort_array1_desc)"
   ]
  },
  {
   "cell_type": "code",
   "execution_count": 3,
   "id": "3c71750a",
   "metadata": {},
   "outputs": [
    {
     "name": "stdout",
     "output_type": "stream",
     "text": [
      "로우 방향으로 정렬: \n",
      " [[ 7  1]\n",
      " [ 8 12]]\n",
      "칼럼 방향으로 정렬: \n",
      " [[ 8 12]\n",
      " [ 1  7]]\n"
     ]
    }
   ],
   "source": [
    "#행렬이 2차원 이상일 경우, axis축 값 설정 변경\n",
    "\n",
    "array2d = np.array([[8, 12],\n",
    "                  [7, 1]])\n",
    "sort_array2d_axis0 = np.sort(array2d, axis=0)\n",
    "print('로우 방향으로 정렬: \\n', sort_array2d_axis0)\n",
    "\n",
    "sort_array2d_axis1 = np.sort(array2d, axis=1)\n",
    "print('칼럼 방향으로 정렬: \\n', sort_array2d_axis1)"
   ]
  },
  {
   "cell_type": "markdown",
   "id": "08636828",
   "metadata": {},
   "source": [
    "- np.argsort()으로 정렬된 행렬의 인덱스를 반환하기"
   ]
  },
  {
   "cell_type": "code",
   "execution_count": 5,
   "id": "794d5951",
   "metadata": {},
   "outputs": [
    {
     "name": "stdout",
     "output_type": "stream",
     "text": [
      "<class 'numpy.ndarray'>\n",
      "행렬 정렬 시 원본 행렬의 인덱스: [1 0 3 2]\n"
     ]
    }
   ],
   "source": [
    "org_array = np.array([3, 1, 9, 5])\n",
    "sort_indices = np.argsort(org_array)\n",
    "print(type(sort_indices))\n",
    "print('행렬 정렬 시 원본 행렬의 인덱스:', sort_indices)"
   ]
  },
  {
   "cell_type": "code",
   "execution_count": 6,
   "id": "98e0dbaa",
   "metadata": {},
   "outputs": [
    {
     "name": "stdout",
     "output_type": "stream",
     "text": [
      "행렬 내림차순 정렬 시 원본 행렬의 인덱스: [2 3 0 1]\n"
     ]
    }
   ],
   "source": [
    "#내림차순으로 정렬 시 원본 행렬의 인덱스도 [::-1]적용\n",
    "org_array = np.array([3, 1, 9, 5])\n",
    "sort_indices_desc = np.argsort(org_array)[::-1]\n",
    "print('행렬 내림차순 정렬 시 원본 행렬의 인덱스:', sort_indices_desc)"
   ]
  },
  {
   "cell_type": "code",
   "execution_count": 7,
   "id": "9f543818",
   "metadata": {},
   "outputs": [
    {
     "name": "stdout",
     "output_type": "stream",
     "text": [
      "성적 오름차순 정렬 시 score_array의 인덱스: [0 2 4 1 3]\n",
      "성적 오름차순으로 name_array의 이름 출력: ['John' 'Sarah' 'Samuel' 'Mike' 'Kate']\n"
     ]
    }
   ],
   "source": [
    "name_array = np.array(['John', 'Mike', 'Sarah', 'Kate', 'Samuel'])\n",
    "score_array = np.array([78, 95, 84, 98, 88])\n",
    "\n",
    "sort_indices_asc = np.argsort(score_array)\n",
    "print('성적 오름차순 정렬 시 score_array의 인덱스:', sort_indices_asc)\n",
    "print('성적 오름차순으로 name_array의 이름 출력:', name_array[sort_indices_asc])\n",
    "                              "
   ]
  },
  {
   "cell_type": "markdown",
   "id": "9d7531ce",
   "metadata": {},
   "source": [
    "### 선형대수 연산 - 행렬 내적과 전치 행렬 구하기"
   ]
  },
  {
   "cell_type": "markdown",
   "id": "7e50c542",
   "metadata": {},
   "source": [
    "- 행렬 내적(행렬 곱), np.dot()으로 계산"
   ]
  },
  {
   "cell_type": "code",
   "execution_count": 8,
   "id": "51b24086",
   "metadata": {},
   "outputs": [
    {
     "name": "stdout",
     "output_type": "stream",
     "text": [
      "행렬 내적 결과: \n",
      " [[ 58  64]\n",
      " [139 154]]\n"
     ]
    }
   ],
   "source": [
    "A = np.array([[1, 2, 3],\n",
    "             [4, 5, 6]])\n",
    "B = np.array( [[7, 8],\n",
    "              [9, 10],\n",
    "              [11, 12]])\n",
    "dot_product = np.dot(A, B)\n",
    "print('행렬 내적 결과: \\n', dot_product)"
   ]
  },
  {
   "cell_type": "markdown",
   "id": "60da5fa7",
   "metadata": {},
   "source": [
    "- 전치 행렬, transpose()로 구함"
   ]
  },
  {
   "cell_type": "code",
   "execution_count": 9,
   "id": "47e1e5dd",
   "metadata": {},
   "outputs": [
    {
     "name": "stdout",
     "output_type": "stream",
     "text": [
      "A의 전치 행렬: \n",
      " [[1 3]\n",
      " [2 4]]\n"
     ]
    }
   ],
   "source": [
    "A = np.array([[1, 2],\n",
    "             [3, 4]])\n",
    "transpose_mat = np.transpose(A)\n",
    "print('A의 전치 행렬: \\n', transpose_mat)"
   ]
  }
 ],
 "metadata": {
  "kernelspec": {
   "display_name": "Python 3 (ipykernel)",
   "language": "python",
   "name": "python3"
  },
  "language_info": {
   "codemirror_mode": {
    "name": "ipython",
    "version": 3
   },
   "file_extension": ".py",
   "mimetype": "text/x-python",
   "name": "python",
   "nbconvert_exporter": "python",
   "pygments_lexer": "ipython3",
   "version": "3.10.9"
  }
 },
 "nbformat": 4,
 "nbformat_minor": 5
}
