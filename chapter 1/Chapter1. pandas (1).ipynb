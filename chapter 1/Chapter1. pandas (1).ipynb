{
 "cells": [
  {
   "cell_type": "markdown",
   "id": "deb37e47",
   "metadata": {},
   "source": [
    "### 넘파이 ndarray, 리스트, 딕셔너리를 dataframe으로 변환하기"
   ]
  },
  {
   "cell_type": "markdown",
   "id": "e7169818",
   "metadata": {},
   "source": [
    "- 1차원 형태 데이터 기반으로 데이터프레임 생성하므로 칼럼명이 1개만 필요함"
   ]
  },
  {
   "cell_type": "code",
   "execution_count": 1,
   "id": "d75ce2da",
   "metadata": {},
   "outputs": [
    {
     "name": "stdout",
     "output_type": "stream",
     "text": [
      "array1 shape: (3,)\n",
      "1차원 리스트로 만든 DataFrame: \n",
      "    col1\n",
      "0     1\n",
      "1     2\n",
      "2     3\n",
      "1차원 ndarray로 만든 DataFrame: \n",
      "    col1\n",
      "0     1\n",
      "1     2\n",
      "2     3\n"
     ]
    }
   ],
   "source": [
    "import numpy as np\n",
    "import pandas as pd\n",
    "\n",
    "col_name1 = ['col1']\n",
    "list1 = [1, 2, 3]\n",
    "array1 = np.array(list1)\n",
    "print('array1 shape:', array1.shape)\n",
    "\n",
    "#리스트를 이용해 DataFrame 생성\n",
    "df_list1 = pd.DataFrame(list1, columns=col_name1)\n",
    "print('1차원 리스트로 만든 DataFrame: \\n', df_list1)\n",
    "\n",
    "#넘파이 ndarray를 이용해 DataFrame 생성\n",
    "df_array1 = pd.DataFrame(array1, columns=col_name1)\n",
    "print('1차원 ndarray로 만든 DataFrame: \\n', df_array1)"
   ]
  },
  {
   "cell_type": "markdown",
   "id": "43e88f0f",
   "metadata": {},
   "source": [
    "- 2차원 형태 데이터 기반으로 데이터프레임 생성하기, 2행X3열 형태의 리스트와 ndarray 필요"
   ]
  },
  {
   "cell_type": "code",
   "execution_count": 2,
   "id": "04cfdbe7",
   "metadata": {},
   "outputs": [
    {
     "name": "stdout",
     "output_type": "stream",
     "text": [
      "array2 shape: (2, 3)\n",
      "2차원 리스트로 만든 DataFrame: \n",
      "    col1  col2  col3\n",
      "0     1     2     3\n",
      "1    11    12    13\n",
      "2차원 ndarray로 만든 DataFrame: \n",
      "    col1  col2  col3\n",
      "0     1     2     3\n",
      "1    11    12    13\n"
     ]
    }
   ],
   "source": [
    "#3개의 칼럼명 필요\n",
    "col_name2 = ['col1', 'col2', 'col3']\n",
    "\n",
    "#2행 3열 형태의 리스트와 ndarray 생성하고 df로 변환\n",
    "list2 = [[1, 2, 3],\n",
    "        [11, 12, 13]]\n",
    "array2 = np.array(list2)\n",
    "print('array2 shape:', array2.shape)\n",
    "df_list2 = pd.DataFrame(list2, columns=col_name2)\n",
    "print('2차원 리스트로 만든 DataFrame: \\n', df_list2)\n",
    "df_array2 = pd.DataFrame(array2, columns=col_name2)\n",
    "print('2차원 ndarray로 만든 DataFrame: \\n', df_array2)"
   ]
  },
  {
   "cell_type": "markdown",
   "id": "998c62e5",
   "metadata": {},
   "source": [
    "- 딕셔너리를 데이터프레임으로 변환하기\n",
    "\n",
    "\n",
    "- key는 칼럼명, value는 key에 해당하는 칼럼 데이터로 변환됨\n",
    "\n",
    "\n",
    "- key는 문자열, value는 리스트 또는 ndarray 형태로 딕셔너리를 구성함"
   ]
  },
  {
   "cell_type": "code",
   "execution_count": 3,
   "id": "97d98b7d",
   "metadata": {},
   "outputs": [
    {
     "name": "stdout",
     "output_type": "stream",
     "text": [
      "딕셔너리로 만든 DataFrame: \n",
      "    col1  col2  col3\n",
      "0     1     2     3\n",
      "1    11    22    33\n"
     ]
    }
   ],
   "source": [
    "dict = {'col1' : [1, 11], 'col2' : [2, 22], 'col3' : [3, 33]}\n",
    "df_dict = pd.DataFrame(dict)\n",
    "print('딕셔너리로 만든 DataFrame: \\n', df_dict)"
   ]
  },
  {
   "cell_type": "markdown",
   "id": "29961ad8",
   "metadata": {},
   "source": [
    "### dataframe을 넘파이 ndarray, 리스트, 딕셔너리로 변환하기"
   ]
  },
  {
   "cell_type": "code",
   "execution_count": 4,
   "id": "13f17613",
   "metadata": {},
   "outputs": [
    {
     "name": "stdout",
     "output_type": "stream",
     "text": [
      "df_dict.values 타입: <class 'numpy.ndarray'> df_dict.values shape: (2, 3)\n",
      "[[ 1  2  3]\n",
      " [11 22 33]]\n"
     ]
    }
   ],
   "source": [
    "#df를 ndarray로\n",
    "array3 = df_dict.values\n",
    "print('df_dict.values 타입:', type(array3), 'df_dict.values shape:', array3.shape)\n",
    "print(array3)"
   ]
  },
  {
   "cell_type": "code",
   "execution_count": 9,
   "id": "9be7f84a",
   "metadata": {},
   "outputs": [
    {
     "name": "stdout",
     "output_type": "stream",
     "text": [
      "df_dict.values.tolist() 타입: <class 'list'>\n",
      "[[1, 2, 3], [11, 22, 33]]\n",
      "\n",
      " df_dict.to_dict() 타입: <class 'dict'>\n",
      "{'col1': [1, 11], 'col2': [2, 22], 'col3': [3, 33]}\n"
     ]
    }
   ],
   "source": [
    "#df를 리스트, 딕셔너리로\n",
    "list3 = df_dict.values.tolist()\n",
    "print('df_dict.values.tolist() 타입:', type(list3))\n",
    "print(list3)\n",
    "\n",
    "dict3 = df_dict.to_dict('list')\n",
    "print('\\n df_dict.to_dict() 타입:', type(dict3))\n",
    "print(dict3)"
   ]
  }
 ],
 "metadata": {
  "kernelspec": {
   "display_name": "Python 3 (ipykernel)",
   "language": "python",
   "name": "python3"
  },
  "language_info": {
   "codemirror_mode": {
    "name": "ipython",
    "version": 3
   },
   "file_extension": ".py",
   "mimetype": "text/x-python",
   "name": "python",
   "nbconvert_exporter": "python",
   "pygments_lexer": "ipython3",
   "version": "3.10.9"
  }
 },
 "nbformat": 4,
 "nbformat_minor": 5
}
