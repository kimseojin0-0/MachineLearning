{
 "cells": [
  {
   "cell_type": "markdown",
   "id": "0f103c1c",
   "metadata": {},
   "source": [
    "### concatenate 메소드, 배열 합치기\n",
    "\n",
    "- concatenate 메소드는 선택한 축 (axis)의 방향으로 배열을 연결해주는 메소드"
   ]
  },
  {
   "cell_type": "markdown",
   "id": "0d4b2d55",
   "metadata": {},
   "source": [
    "#### 1차원 배열"
   ]
  },
  {
   "cell_type": "code",
   "execution_count": 2,
   "id": "763086cb",
   "metadata": {},
   "outputs": [
    {
     "name": "stdout",
     "output_type": "stream",
     "text": [
      "[1 2 3]\n",
      "[4 5 6]\n"
     ]
    }
   ],
   "source": [
    "import numpy as np\n",
    "\n",
    "a1 = np.array([1, 2, 3])\n",
    "b1 = np.array([4, 5, 6])\n",
    "print(a1)\n",
    "print(b1)"
   ]
  },
  {
   "cell_type": "code",
   "execution_count": 4,
   "id": "d969b2b8",
   "metadata": {},
   "outputs": [
    {
     "data": {
      "text/plain": [
       "array([1, 2, 3, 4, 5, 6])"
      ]
     },
     "execution_count": 4,
     "metadata": {},
     "output_type": "execute_result"
    }
   ],
   "source": [
    "#1차원 배열에 concanate 적용하기\n",
    "\n",
    "np.concatenate((a1, b1), axis=0)"
   ]
  },
  {
   "cell_type": "markdown",
   "id": "a938d655",
   "metadata": {},
   "source": [
    "- 1차원에서 axis=0은 행방향이나 열방향이라는 개념이 없음\n",
    "\n",
    "\n",
    "- axis=1로 하면 에러 발생 >> 방향이 axis=0 하나 뿐이기 때문(직선이라고 생각)"
   ]
  },
  {
   "cell_type": "markdown",
   "id": "49eb6f1a",
   "metadata": {},
   "source": [
    "#### 2차원 배열"
   ]
  },
  {
   "cell_type": "code",
   "execution_count": 5,
   "id": "77246319",
   "metadata": {},
   "outputs": [
    {
     "name": "stdout",
     "output_type": "stream",
     "text": [
      "[[ 1  2  3]\n",
      " [10 20 30]]\n",
      "[[ 4  5  6]\n",
      " [40 50 60]]\n"
     ]
    }
   ],
   "source": [
    "a2 = np.array([ [1, 2, 3], [10, 20, 30] ])\n",
    "b2 = np.array([ [4, 5, 6], [40, 50, 60] ])\n",
    "print(a2)\n",
    "print(b2)"
   ]
  },
  {
   "cell_type": "code",
   "execution_count": 6,
   "id": "429e1d25",
   "metadata": {},
   "outputs": [
    {
     "data": {
      "text/plain": [
       "array([[ 1,  2,  3],\n",
       "       [10, 20, 30],\n",
       "       [ 4,  5,  6],\n",
       "       [40, 50, 60]])"
      ]
     },
     "execution_count": 6,
     "metadata": {},
     "output_type": "execute_result"
    }
   ],
   "source": [
    "#2차원 배열에서 axis=0은 행방향(위>아래)을 의미\n",
    "np.concatenate((a2, b2), axis=0)"
   ]
  },
  {
   "cell_type": "code",
   "execution_count": 7,
   "id": "7464fa6b",
   "metadata": {},
   "outputs": [
    {
     "data": {
      "text/plain": [
       "array([[ 1,  2,  3,  4,  5,  6],\n",
       "       [10, 20, 30, 40, 50, 60]])"
      ]
     },
     "execution_count": 7,
     "metadata": {},
     "output_type": "execute_result"
    }
   ],
   "source": [
    "#열방향(왼>오)\n",
    "np.concatenate((a2, b2), axis=1)"
   ]
  },
  {
   "cell_type": "markdown",
   "id": "9563dbb8",
   "metadata": {},
   "source": [
    "#### 3차원 배열"
   ]
  },
  {
   "cell_type": "code",
   "execution_count": null,
   "id": "19d2a743",
   "metadata": {},
   "outputs": [],
   "source": []
  }
 ],
 "metadata": {
  "kernelspec": {
   "display_name": "Python 3 (ipykernel)",
   "language": "python",
   "name": "python3"
  },
  "language_info": {
   "codemirror_mode": {
    "name": "ipython",
    "version": 3
   },
   "file_extension": ".py",
   "mimetype": "text/x-python",
   "name": "python",
   "nbconvert_exporter": "python",
   "pygments_lexer": "ipython3",
   "version": "3.10.9"
  }
 },
 "nbformat": 4,
 "nbformat_minor": 5
}
