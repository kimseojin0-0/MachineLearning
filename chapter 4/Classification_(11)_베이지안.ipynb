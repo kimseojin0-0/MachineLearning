{
  "nbformat": 4,
  "nbformat_minor": 0,
  "metadata": {
    "colab": {
      "provenance": [],
      "toc_visible": true
    },
    "kernelspec": {
      "name": "python3",
      "display_name": "Python 3"
    },
    "language_info": {
      "name": "python"
    }
  },
  "cells": [
    {
      "cell_type": "markdown",
      "source": [
        "#### 베이지안 최적화 기반의 HyperOpt를 이용한 하이퍼 파라미터 튜닝\n",
        "\n",
        "GridSearch 방식은 파라미터 개수가 많을수록 시간이 오래 걸리는게 단점이다\n",
        "\n",
        "XGBoost나 LightGBM은 성능은 뛰어나지만 파라미터 개수가 너무 많아서 대용량 데이터에 쓸 때 시간이 많이 걸린다\n",
        "\n",
        "- LightGBM에 6가지 하이퍼 파라미터를 적용하려고 해보자\n",
        "\n",
        "  max_depth=[10, 20, 30, 40, 50]\n",
        "\n",
        "  num_leaves=4\n",
        "\n",
        "  colsample_bytree=5\n",
        "\n",
        "  subsample=5\n",
        "\n",
        "  min_child_weight=4\n",
        "\n",
        "  reg_alpha=3 인 경우 GridSearch는 6000회를 반복해야함\n",
        "\n",
        "\n",
        "따라서 실무의 대용량 데이터에는 베이지안 최적화 기법을 사용함"
      ],
      "metadata": {
        "id": "PAajtxyGDNkK"
      }
    },
    {
      "cell_type": "markdown",
      "source": [
        "#### 베이지안 최적화\n",
        "\n",
        "목적 함수 식을 제대로 모르는 블랙 박스 형태의 함수에서 최대 또는 최소 함수 반환값을 만드는 최적 입력값을 가능한 적은 시도를 통해 효과적으로 찾아주는 방식\n",
        "\n",
        "- 베이지안 확률: 새로운 사건의 관측이나 샘플 데이터를 기반으로 사후 확률을 개선해 나가는 것\n",
        "\n",
        "- 베이지안 최적화: 새로운 데이터를 입력받았을 때 최적 함수를 예측하는 사후 모델을 개선해 나감\n",
        "\n",
        "  대체 모델(surrogate model) / 획득 함수(acqusition function)"
      ],
      "metadata": {
        "id": "qr71C6WXHISM"
      }
    },
    {
      "cell_type": "markdown",
      "source": [
        "#### HyperOpt 사용하기\n",
        "\n",
        "<hyperopt의 주요 로직>\n",
        "\n",
        "- 입력변수명과 입력값의 검색 공간 설정 >> hp모듈을 이용하여 딕셔너리 형태로 \n",
        "\n",
        "- 목적함수 설정 >> 위의 딕셔너리를 인자로 받고 특정값을 반환하는 구조\n",
        "\n",
        "- 목적 함수의 반환 최솟값을 가지는 최적 입력값 유추 >> 베이지안 최적화에 기반하여"
      ],
      "metadata": {
        "id": "UXuak-E5Ihtv"
      }
    },
    {
      "cell_type": "code",
      "source": [
        "from hyperopt import hp\n",
        "\n",
        "#-10~10까지 1간격을 가지는 입력변수 x와 -15~15까지 1간격으로 입력변수 y 설정\n",
        "search_space = {'x':hp.quniform('x', -10, 10, 1), 'y':hp.quniform('y', -15, 15, 1)}\n",
        "\n",
        "from hyperopt import STATUS_OK\n",
        "\n",
        "#목적함수 생성, 변수값과 검색공간 가지는 딕셔너리를 인자로 받고 특정값 반환\n",
        "def objective_func(search_space):\n",
        "  x = search_space['x']\n",
        "  y = search_space['y']\n",
        "  retval = x**2 - 20*y\n",
        "\n",
        "  return retval\n",
        "\n",
        "from hyperopt import fmin, tpe, Trials\n",
        "import numpy as np\n",
        "\n",
        "#입력결과값을 저장한 Trials 객체 생성\n",
        "trial_val = Trials()\n",
        "\n",
        "#목적함수와 최솟값을 반환하는 최적 입력변수값을 5번의 시도로 찾아냄\n",
        "best_01 = fmin(fn=objective_func, space=search_space, algo=tpe.suggest, max_evals=5, trials=trial_val, rstate=np.random.default_rng(seed=0))\n",
        "print('best:', best_01)"
      ],
      "metadata": {
        "colab": {
          "base_uri": "https://localhost:8080/"
        },
        "id": "K2yQG1YqQyEw",
        "outputId": "efdbc2f6-9a0a-435c-f728-427fb13a475d"
      },
      "execution_count": 5,
      "outputs": [
        {
          "output_type": "stream",
          "name": "stdout",
          "text": [
            "100%|██████████| 5/5 [00:00<00:00, 749.12trial/s, best loss: -224.0]\n",
            "best: {'x': -4.0, 'y': 12.0}\n"
          ]
        }
      ]
    },
    {
      "cell_type": "markdown",
      "source": [
        "- best: {'x': -4.0, 'y': 12.0}로 나옴 x는 0에 가까울수록 y는 15에 가까울수록 반환값이 최소에 근사한 것임"
      ],
      "metadata": {
        "id": "sf9rvXzaVd_b"
      }
    },
    {
      "cell_type": "markdown",
      "source": [
        "이번에는 max_evals=20으로 20번 수행하기"
      ],
      "metadata": {
        "id": "WD3pXuB4V0-B"
      }
    },
    {
      "cell_type": "code",
      "source": [
        "trial_val = Trials()\n",
        "\n",
        "best_02 = fmin(fn=objective_func, space=search_space, algo=tpe.suggest, max_evals=20, trials=trial_val, rstate=np.random.default_rng(seed=0))\n",
        "print('best:', best_02)"
      ],
      "metadata": {
        "colab": {
          "base_uri": "https://localhost:8080/"
        },
        "id": "9dR8wiyjVXXY",
        "outputId": "8eaf2341-e552-40f1-bcf7-680371b311da"
      },
      "execution_count": 6,
      "outputs": [
        {
          "output_type": "stream",
          "name": "stdout",
          "text": [
            "100%|██████████| 20/20 [00:00<00:00, 891.99trial/s, best loss: -296.0]\n",
            "best: {'x': 2.0, 'y': 15.0}\n"
          ]
        }
      ]
    },
    {
      "cell_type": "markdown",
      "source": [
        "- 조금 더 최적 최소값에 근사함\n",
        "\n",
        "그리드 서치를 썼으면 x 21개, y 31개로 651회 반복했을텐데 완벽한 정답인 x=0을 도출하지 못했더라도 20회만으로 끝낼 수 있었음"
      ],
      "metadata": {
        "id": "uk4StOqnWAOV"
      }
    },
    {
      "cell_type": "markdown",
      "source": [
        "- fmin() 함수 수행 시 인자로 들어가는 Trials 객체는 함수 반복 수행시마다 입력되는 변수값들과 반환값을 속성으로 가짐\n",
        "\n",
        "- 주요 속성은 results와 vals가 있음\n",
        "\n",
        "results는 리스트 형태, 리스트 내에는 딕셔너리 형태로 개별 원소를 가짐\n",
        "\n",
        "vals는 딕셔너리 형태"
      ],
      "metadata": {
        "id": "XLqA2YFuYRwc"
      }
    },
    {
      "cell_type": "code",
      "source": [
        "print(trial_val.results)"
      ],
      "metadata": {
        "colab": {
          "base_uri": "https://localhost:8080/"
        },
        "id": "0gBQep3NV-UA",
        "outputId": "483e2d51-382e-4fad-de88-e2fd3331f525"
      },
      "execution_count": 7,
      "outputs": [
        {
          "output_type": "stream",
          "name": "stdout",
          "text": [
            "[{'loss': -64.0, 'status': 'ok'}, {'loss': -184.0, 'status': 'ok'}, {'loss': 56.0, 'status': 'ok'}, {'loss': -224.0, 'status': 'ok'}, {'loss': 61.0, 'status': 'ok'}, {'loss': -296.0, 'status': 'ok'}, {'loss': -40.0, 'status': 'ok'}, {'loss': 281.0, 'status': 'ok'}, {'loss': 64.0, 'status': 'ok'}, {'loss': 100.0, 'status': 'ok'}, {'loss': 60.0, 'status': 'ok'}, {'loss': -39.0, 'status': 'ok'}, {'loss': 1.0, 'status': 'ok'}, {'loss': -164.0, 'status': 'ok'}, {'loss': 21.0, 'status': 'ok'}, {'loss': -56.0, 'status': 'ok'}, {'loss': 284.0, 'status': 'ok'}, {'loss': 176.0, 'status': 'ok'}, {'loss': -171.0, 'status': 'ok'}, {'loss': 0.0, 'status': 'ok'}]\n"
          ]
        }
      ]
    },
    {
      "cell_type": "code",
      "source": [
        "print(trial_val.vals)"
      ],
      "metadata": {
        "colab": {
          "base_uri": "https://localhost:8080/"
        },
        "id": "V7RwYeyxX4ex",
        "outputId": "6c9fd867-f4d2-408e-ec8c-ca125c45ea95"
      },
      "execution_count": 8,
      "outputs": [
        {
          "output_type": "stream",
          "name": "stdout",
          "text": [
            "{'x': [-6.0, -4.0, 4.0, -4.0, 9.0, 2.0, 10.0, -9.0, -8.0, -0.0, -0.0, 1.0, 9.0, 6.0, 9.0, 2.0, -2.0, -4.0, 7.0, -0.0], 'y': [5.0, 10.0, -2.0, 12.0, 1.0, 15.0, 7.0, -10.0, 0.0, -5.0, -3.0, 2.0, 4.0, 10.0, 3.0, 3.0, -14.0, -8.0, 11.0, -0.0]}\n"
          ]
        }
      ]
    },
    {
      "cell_type": "markdown",
      "source": [
        "- 이 값들을 그대로 보기는 불편함 >> DataFrame으로 만들어주기"
      ],
      "metadata": {
        "id": "H9gI8Q_xYXR8"
      }
    },
    {
      "cell_type": "code",
      "source": [
        "import pandas as pd\n",
        "\n",
        "#results에서 loss 키값에 해당하는 밸류들을 추출하여 리스트로 생성\n",
        "losses = [loss_dict['loss'] for loss_dict in trial_val.results]\n",
        "\n",
        "result_df = pd.DataFrame({'x':trial_val.vals['x'], 'y':trial_val.vals['y'], 'losses':losses})\n",
        "result_df"
      ],
      "metadata": {
        "colab": {
          "base_uri": "https://localhost:8080/",
          "height": 676
        },
        "id": "L4jxz8ICYAhU",
        "outputId": "0d35609f-2e6c-4e90-d50d-23e6b3c373e0"
      },
      "execution_count": 9,
      "outputs": [
        {
          "output_type": "execute_result",
          "data": {
            "text/plain": [
              "       x     y  losses\n",
              "0   -6.0   5.0   -64.0\n",
              "1   -4.0  10.0  -184.0\n",
              "2    4.0  -2.0    56.0\n",
              "3   -4.0  12.0  -224.0\n",
              "4    9.0   1.0    61.0\n",
              "5    2.0  15.0  -296.0\n",
              "6   10.0   7.0   -40.0\n",
              "7   -9.0 -10.0   281.0\n",
              "8   -8.0   0.0    64.0\n",
              "9   -0.0  -5.0   100.0\n",
              "10  -0.0  -3.0    60.0\n",
              "11   1.0   2.0   -39.0\n",
              "12   9.0   4.0     1.0\n",
              "13   6.0  10.0  -164.0\n",
              "14   9.0   3.0    21.0\n",
              "15   2.0   3.0   -56.0\n",
              "16  -2.0 -14.0   284.0\n",
              "17  -4.0  -8.0   176.0\n",
              "18   7.0  11.0  -171.0\n",
              "19  -0.0  -0.0     0.0"
            ],
            "text/html": [
              "\n",
              "  <div id=\"df-2adc7805-e76f-4506-a5b8-b56af3d0455d\">\n",
              "    <div class=\"colab-df-container\">\n",
              "      <div>\n",
              "<style scoped>\n",
              "    .dataframe tbody tr th:only-of-type {\n",
              "        vertical-align: middle;\n",
              "    }\n",
              "\n",
              "    .dataframe tbody tr th {\n",
              "        vertical-align: top;\n",
              "    }\n",
              "\n",
              "    .dataframe thead th {\n",
              "        text-align: right;\n",
              "    }\n",
              "</style>\n",
              "<table border=\"1\" class=\"dataframe\">\n",
              "  <thead>\n",
              "    <tr style=\"text-align: right;\">\n",
              "      <th></th>\n",
              "      <th>x</th>\n",
              "      <th>y</th>\n",
              "      <th>losses</th>\n",
              "    </tr>\n",
              "  </thead>\n",
              "  <tbody>\n",
              "    <tr>\n",
              "      <th>0</th>\n",
              "      <td>-6.0</td>\n",
              "      <td>5.0</td>\n",
              "      <td>-64.0</td>\n",
              "    </tr>\n",
              "    <tr>\n",
              "      <th>1</th>\n",
              "      <td>-4.0</td>\n",
              "      <td>10.0</td>\n",
              "      <td>-184.0</td>\n",
              "    </tr>\n",
              "    <tr>\n",
              "      <th>2</th>\n",
              "      <td>4.0</td>\n",
              "      <td>-2.0</td>\n",
              "      <td>56.0</td>\n",
              "    </tr>\n",
              "    <tr>\n",
              "      <th>3</th>\n",
              "      <td>-4.0</td>\n",
              "      <td>12.0</td>\n",
              "      <td>-224.0</td>\n",
              "    </tr>\n",
              "    <tr>\n",
              "      <th>4</th>\n",
              "      <td>9.0</td>\n",
              "      <td>1.0</td>\n",
              "      <td>61.0</td>\n",
              "    </tr>\n",
              "    <tr>\n",
              "      <th>5</th>\n",
              "      <td>2.0</td>\n",
              "      <td>15.0</td>\n",
              "      <td>-296.0</td>\n",
              "    </tr>\n",
              "    <tr>\n",
              "      <th>6</th>\n",
              "      <td>10.0</td>\n",
              "      <td>7.0</td>\n",
              "      <td>-40.0</td>\n",
              "    </tr>\n",
              "    <tr>\n",
              "      <th>7</th>\n",
              "      <td>-9.0</td>\n",
              "      <td>-10.0</td>\n",
              "      <td>281.0</td>\n",
              "    </tr>\n",
              "    <tr>\n",
              "      <th>8</th>\n",
              "      <td>-8.0</td>\n",
              "      <td>0.0</td>\n",
              "      <td>64.0</td>\n",
              "    </tr>\n",
              "    <tr>\n",
              "      <th>9</th>\n",
              "      <td>-0.0</td>\n",
              "      <td>-5.0</td>\n",
              "      <td>100.0</td>\n",
              "    </tr>\n",
              "    <tr>\n",
              "      <th>10</th>\n",
              "      <td>-0.0</td>\n",
              "      <td>-3.0</td>\n",
              "      <td>60.0</td>\n",
              "    </tr>\n",
              "    <tr>\n",
              "      <th>11</th>\n",
              "      <td>1.0</td>\n",
              "      <td>2.0</td>\n",
              "      <td>-39.0</td>\n",
              "    </tr>\n",
              "    <tr>\n",
              "      <th>12</th>\n",
              "      <td>9.0</td>\n",
              "      <td>4.0</td>\n",
              "      <td>1.0</td>\n",
              "    </tr>\n",
              "    <tr>\n",
              "      <th>13</th>\n",
              "      <td>6.0</td>\n",
              "      <td>10.0</td>\n",
              "      <td>-164.0</td>\n",
              "    </tr>\n",
              "    <tr>\n",
              "      <th>14</th>\n",
              "      <td>9.0</td>\n",
              "      <td>3.0</td>\n",
              "      <td>21.0</td>\n",
              "    </tr>\n",
              "    <tr>\n",
              "      <th>15</th>\n",
              "      <td>2.0</td>\n",
              "      <td>3.0</td>\n",
              "      <td>-56.0</td>\n",
              "    </tr>\n",
              "    <tr>\n",
              "      <th>16</th>\n",
              "      <td>-2.0</td>\n",
              "      <td>-14.0</td>\n",
              "      <td>284.0</td>\n",
              "    </tr>\n",
              "    <tr>\n",
              "      <th>17</th>\n",
              "      <td>-4.0</td>\n",
              "      <td>-8.0</td>\n",
              "      <td>176.0</td>\n",
              "    </tr>\n",
              "    <tr>\n",
              "      <th>18</th>\n",
              "      <td>7.0</td>\n",
              "      <td>11.0</td>\n",
              "      <td>-171.0</td>\n",
              "    </tr>\n",
              "    <tr>\n",
              "      <th>19</th>\n",
              "      <td>-0.0</td>\n",
              "      <td>-0.0</td>\n",
              "      <td>0.0</td>\n",
              "    </tr>\n",
              "  </tbody>\n",
              "</table>\n",
              "</div>\n",
              "      <button class=\"colab-df-convert\" onclick=\"convertToInteractive('df-2adc7805-e76f-4506-a5b8-b56af3d0455d')\"\n",
              "              title=\"Convert this dataframe to an interactive table.\"\n",
              "              style=\"display:none;\">\n",
              "        \n",
              "  <svg xmlns=\"http://www.w3.org/2000/svg\" height=\"24px\"viewBox=\"0 0 24 24\"\n",
              "       width=\"24px\">\n",
              "    <path d=\"M0 0h24v24H0V0z\" fill=\"none\"/>\n",
              "    <path d=\"M18.56 5.44l.94 2.06.94-2.06 2.06-.94-2.06-.94-.94-2.06-.94 2.06-2.06.94zm-11 1L8.5 8.5l.94-2.06 2.06-.94-2.06-.94L8.5 2.5l-.94 2.06-2.06.94zm10 10l.94 2.06.94-2.06 2.06-.94-2.06-.94-.94-2.06-.94 2.06-2.06.94z\"/><path d=\"M17.41 7.96l-1.37-1.37c-.4-.4-.92-.59-1.43-.59-.52 0-1.04.2-1.43.59L10.3 9.45l-7.72 7.72c-.78.78-.78 2.05 0 2.83L4 21.41c.39.39.9.59 1.41.59.51 0 1.02-.2 1.41-.59l7.78-7.78 2.81-2.81c.8-.78.8-2.07 0-2.86zM5.41 20L4 18.59l7.72-7.72 1.47 1.35L5.41 20z\"/>\n",
              "  </svg>\n",
              "      </button>\n",
              "      \n",
              "  <style>\n",
              "    .colab-df-container {\n",
              "      display:flex;\n",
              "      flex-wrap:wrap;\n",
              "      gap: 12px;\n",
              "    }\n",
              "\n",
              "    .colab-df-convert {\n",
              "      background-color: #E8F0FE;\n",
              "      border: none;\n",
              "      border-radius: 50%;\n",
              "      cursor: pointer;\n",
              "      display: none;\n",
              "      fill: #1967D2;\n",
              "      height: 32px;\n",
              "      padding: 0 0 0 0;\n",
              "      width: 32px;\n",
              "    }\n",
              "\n",
              "    .colab-df-convert:hover {\n",
              "      background-color: #E2EBFA;\n",
              "      box-shadow: 0px 1px 2px rgba(60, 64, 67, 0.3), 0px 1px 3px 1px rgba(60, 64, 67, 0.15);\n",
              "      fill: #174EA6;\n",
              "    }\n",
              "\n",
              "    [theme=dark] .colab-df-convert {\n",
              "      background-color: #3B4455;\n",
              "      fill: #D2E3FC;\n",
              "    }\n",
              "\n",
              "    [theme=dark] .colab-df-convert:hover {\n",
              "      background-color: #434B5C;\n",
              "      box-shadow: 0px 1px 3px 1px rgba(0, 0, 0, 0.15);\n",
              "      filter: drop-shadow(0px 1px 2px rgba(0, 0, 0, 0.3));\n",
              "      fill: #FFFFFF;\n",
              "    }\n",
              "  </style>\n",
              "\n",
              "      <script>\n",
              "        const buttonEl =\n",
              "          document.querySelector('#df-2adc7805-e76f-4506-a5b8-b56af3d0455d button.colab-df-convert');\n",
              "        buttonEl.style.display =\n",
              "          google.colab.kernel.accessAllowed ? 'block' : 'none';\n",
              "\n",
              "        async function convertToInteractive(key) {\n",
              "          const element = document.querySelector('#df-2adc7805-e76f-4506-a5b8-b56af3d0455d');\n",
              "          const dataTable =\n",
              "            await google.colab.kernel.invokeFunction('convertToInteractive',\n",
              "                                                     [key], {});\n",
              "          if (!dataTable) return;\n",
              "\n",
              "          const docLinkHtml = 'Like what you see? Visit the ' +\n",
              "            '<a target=\"_blank\" href=https://colab.research.google.com/notebooks/data_table.ipynb>data table notebook</a>'\n",
              "            + ' to learn more about interactive tables.';\n",
              "          element.innerHTML = '';\n",
              "          dataTable['output_type'] = 'display_data';\n",
              "          await google.colab.output.renderOutput(dataTable, element);\n",
              "          const docLink = document.createElement('div');\n",
              "          docLink.innerHTML = docLinkHtml;\n",
              "          element.appendChild(docLink);\n",
              "        }\n",
              "      </script>\n",
              "    </div>\n",
              "  </div>\n",
              "  "
            ]
          },
          "metadata": {},
          "execution_count": 9
        }
      ]
    },
    {
      "cell_type": "markdown",
      "source": [
        "#### HyperOpt를 이용한 XGBoost 하이퍼 파라미터 최적화\n",
        "\n",
        "- 주의할 점! \n",
        "\n",
        "  특정 파라미터는 정수값만 입력받는데 HyperOpt는 입력값, 반환값이 모두 실수형이라 형변환을 해줘야함\n",
        "\n",
        "  목적함수는 최솟값을 반환하도록 최적화해야 하므로 좋은 성능 지표일수록 -1을 곱해줘야함"
      ],
      "metadata": {
        "id": "vlpUzx5pZNUP"
      }
    },
    {
      "cell_type": "code",
      "source": [
        "from lightgbm import LGBMClassifier\n",
        "import pandas as pd\n",
        "import numpy as np\n",
        "from sklearn.model_selection import train_test_split\n",
        "from sklearn.datasets import load_breast_cancer\n",
        "\n",
        "dataset = load_breast_cancer()\n",
        "\n",
        "cancer_df = pd.DataFrame(data=dataset.data, columns=dataset.feature_names)\n",
        "cancer_df['target']=dataset.target\n",
        "\n",
        "X_features = cancer_df.iloc[:, :-1]\n",
        "y_label = cancer_df.iloc[:, -1]\n",
        "\n",
        "X_train, X_test, y_train, y_test = train_test_split(X_features, y_label, test_size=0.2, random_state=156)\n",
        "X_tr, X_val, y_tr, y_val = train_test_split(X_train, y_train, test_size=0.1, random_state=156)"
      ],
      "metadata": {
        "id": "A67RSs3RY-3f"
      },
      "execution_count": 10,
      "outputs": []
    },
    {
      "cell_type": "code",
      "source": [
        "from hyperopt import hp\n",
        "\n",
        "#max_depth는 5~20을 1간격으로 min_child_weight는 1~2를 1간격으로\n",
        "#colsample_bytree는 0.5~1사이, learning_rate는 0.01~0.2사이\n",
        "xgb_search_space = {'max_depth': hp.quniform('max_depth', 5, 20, 1),\n",
        "                    'min_child_weight': hp.quniform('min_child_weight', 1, 2, 1, ),\n",
        "                    'colsample_bytree': hp.uniform('colsample_bytree', 0.5, 1),\n",
        "                    'learning_rate': hp.uniform('learning_rate', 0.01, 0.2)}"
      ],
      "metadata": {
        "id": "6MjECL7FaJmQ"
      },
      "execution_count": 11,
      "outputs": []
    },
    {
      "cell_type": "markdown",
      "source": [
        "- 주의사항을 고려하면서 목적함수 만들기\n",
        "\n",
        "  3가지 교차검증세트로 정확도 반환할 수 있도록 cross_val_score 사용\n",
        "\n",
        "  수행시간 줄이기 위해 n_estimators=100으로 설정"
      ],
      "metadata": {
        "id": "uiD5MhOdbT5W"
      }
    },
    {
      "cell_type": "code",
      "source": [
        "from sklearn.model_selection import cross_val_score\n",
        "from xgboost import XGBClassifier\n",
        "from hyperopt import STATUS_OK\n",
        "\n",
        "def objective_func(search_space):\n",
        "  xgb_clf = XGBClassifier(n_estimators=100, max_depth=int(search_space['max_depth']),\n",
        "                          min_child_weight=int(search_space['min_child_weight']),\n",
        "                          learning_rate=search_space['learning_rate'], colsample_bytree=search_space['colsample_bytree'],\n",
        "                          eval_metric='logloss')\n",
        "  accuracy = cross_val_score(xgb_clf, X_train, y_train, scoring='accuracy', cv=3)\n",
        "\n",
        "  return {'loss':-1 * np.mean(accuracy), 'status':STATUS_OK}\n",
        "                                                    "
      ],
      "metadata": {
        "id": "gLaHa8lYbO5S"
      },
      "execution_count": 16,
      "outputs": []
    },
    {
      "cell_type": "code",
      "source": [
        "from hyperopt import fmin, tpe, Trials\n",
        "\n",
        "trial_val = Trials()\n",
        "best = fmin(fn=objective_func, space=xgb_search_space, algo=tpe.suggest, max_evals=50, trials=trial_val, rstate=np.random.default_rng(seed=9))\n",
        "print('best:', best)"
      ],
      "metadata": {
        "colab": {
          "base_uri": "https://localhost:8080/"
        },
        "id": "TPEdBro0dqv5",
        "outputId": "602395ec-48a3-414a-ff26-38fd92eb93ef"
      },
      "execution_count": 18,
      "outputs": [
        {
          "output_type": "stream",
          "name": "stdout",
          "text": [
            "100%|██████████| 50/50 [00:10<00:00,  4.93trial/s, best loss: -0.9670616939700244]\n",
            "best: {'colsample_bytree': 0.9599446282177103, 'learning_rate': 0.15480405522751015, 'max_depth': 6.0, 'min_child_weight': 2.0}\n"
          ]
        }
      ]
    },
    {
      "cell_type": "markdown",
      "source": [
        "- fmin()으로 추출된 최적 하이퍼 파라미터를 XGBClassifier에 인자로 넣기 전에 정수형 파라미터는 정수형으로 실수형 파라미터는 소수점 5번째까지만 나타내자"
      ],
      "metadata": {
        "id": "B0wgjDSSesiq"
      }
    },
    {
      "cell_type": "code",
      "source": [
        "print('colsample_bytree:{0}, learning_rate:{1}, max_depth:{2}, min_child_weight:{3}'.format(round(best['colsample_bytree'], 5),\n",
        "                                                                                                 round(best['learning_rate'], 5),\n",
        "                                                                                           int(best['max_depth']),\n",
        "                                                                                           int(best['min_child_weight'])))"
      ],
      "metadata": {
        "colab": {
          "base_uri": "https://localhost:8080/"
        },
        "id": "fwrErseseT7D",
        "outputId": "8e60bc4f-84ac-4fbd-9ad8-c6bd750a9d48"
      },
      "execution_count": 21,
      "outputs": [
        {
          "output_type": "stream",
          "name": "stdout",
          "text": [
            "colsample_bytree:0.95994, learning_rate:0.1548, max_depth:6, min_child_weight:2\n"
          ]
        }
      ]
    },
    {
      "cell_type": "markdown",
      "source": [
        "- 도출된 최적 하이퍼 파라미터로 XGBClassifier를 재학습한 후 성능 평가 확인해보자\n",
        "\n",
        "- 조기 중단하고 n_estimators=400으로 증가시키기"
      ],
      "metadata": {
        "id": "f6WSBoyQf2Pk"
      }
    },
    {
      "cell_type": "code",
      "source": [
        "from sklearn.metrics import accuracy_score, precision_score, recall_score, roc_auc_score\n",
        "from sklearn.metrics import f1_score, confusion_matrix, precision_recall_curve, roc_curve\n",
        "\n",
        "def get_clf_eval(y_test, pred, pred_proba):\n",
        "    confusion = confusion_matrix(y_test, pred)\n",
        "    accuracy = accuracy_score(y_test, pred)\n",
        "    precision = precision_score(y_test, pred)\n",
        "    recall = recall_score(y_test, pred)\n",
        "    f1 = f1_score(y_test, pred)\n",
        "    roc_auc = roc_auc_score(y_test, pred_proba)\n",
        "    print('오차 행렬')\n",
        "    print(confusion)\n",
        "    print('정확도: {0:.4f}, 정밀도: {1:.4f}, 재현율: {2:.4f}, F1:{3:.4f}, AUC: {4:.4f}'.format(accuracy, precision, recall, f1, roc_auc))"
      ],
      "metadata": {
        "id": "J7wkxU-4hu5R"
      },
      "execution_count": 22,
      "outputs": []
    },
    {
      "cell_type": "code",
      "source": [
        "xgb_wrapper = XGBClassifier(n_estimators=400,\n",
        "                            learning_rate=round(best['learning_rate'], 5),\n",
        "                            max_depth=int(best['max_depth']),\n",
        "                            min_child_weight=int(best['min_child_weight']),\n",
        "                            colsample_bytree=round(best['colsample_bytree'], 5))\n",
        "\n",
        "evals = [(X_tr, y_tr), (X_val, y_val)]\n",
        "xgb_wrapper.fit(X_tr, y_tr, early_stopping_rounds=50, eval_metric='logloss', eval_set=evals, verbose=True)\n",
        "preds = xgb_wrapper.predict(X_test)\n",
        "pred_proba = xgb_wrapper.predict_proba(X_test)[:, 1]\n",
        "\n",
        "get_clf_eval(y_test, preds, pred_proba)"
      ],
      "metadata": {
        "colab": {
          "base_uri": "https://localhost:8080/"
        },
        "id": "cOXXf02mfsoP",
        "outputId": "e9010c68-f50f-4017-c73b-bfb0449b0e12"
      },
      "execution_count": 23,
      "outputs": [
        {
          "output_type": "stream",
          "name": "stdout",
          "text": [
            "[0]\tvalidation_0-logloss:0.56834\tvalidation_1-logloss:0.60660\n"
          ]
        },
        {
          "output_type": "stream",
          "name": "stderr",
          "text": [
            "/usr/local/lib/python3.10/dist-packages/xgboost/sklearn.py:835: UserWarning: `eval_metric` in `fit` method is deprecated for better compatibility with scikit-learn, use `eval_metric` in constructor or`set_params` instead.\n",
            "  warnings.warn(\n",
            "/usr/local/lib/python3.10/dist-packages/xgboost/sklearn.py:835: UserWarning: `early_stopping_rounds` in `fit` method is deprecated for better compatibility with scikit-learn, use `early_stopping_rounds` in constructor or`set_params` instead.\n",
            "  warnings.warn(\n"
          ]
        },
        {
          "output_type": "stream",
          "name": "stdout",
          "text": [
            "[1]\tvalidation_0-logloss:0.47552\tvalidation_1-logloss:0.54538\n",
            "[2]\tvalidation_0-logloss:0.40208\tvalidation_1-logloss:0.48735\n",
            "[3]\tvalidation_0-logloss:0.34468\tvalidation_1-logloss:0.45698\n",
            "[4]\tvalidation_0-logloss:0.29775\tvalidation_1-logloss:0.41729\n",
            "[5]\tvalidation_0-logloss:0.26004\tvalidation_1-logloss:0.39167\n",
            "[6]\tvalidation_0-logloss:0.22681\tvalidation_1-logloss:0.36682\n",
            "[7]\tvalidation_0-logloss:0.20096\tvalidation_1-logloss:0.34593\n",
            "[8]\tvalidation_0-logloss:0.17762\tvalidation_1-logloss:0.33030\n",
            "[9]\tvalidation_0-logloss:0.15762\tvalidation_1-logloss:0.31918\n",
            "[10]\tvalidation_0-logloss:0.14233\tvalidation_1-logloss:0.30772\n",
            "[11]\tvalidation_0-logloss:0.12769\tvalidation_1-logloss:0.30104\n",
            "[12]\tvalidation_0-logloss:0.11566\tvalidation_1-logloss:0.29621\n",
            "[13]\tvalidation_0-logloss:0.10479\tvalidation_1-logloss:0.29157\n",
            "[14]\tvalidation_0-logloss:0.09640\tvalidation_1-logloss:0.28495\n",
            "[15]\tvalidation_0-logloss:0.08707\tvalidation_1-logloss:0.28055\n",
            "[16]\tvalidation_0-logloss:0.08067\tvalidation_1-logloss:0.27775\n",
            "[17]\tvalidation_0-logloss:0.07468\tvalidation_1-logloss:0.27470\n",
            "[18]\tvalidation_0-logloss:0.06971\tvalidation_1-logloss:0.27426\n",
            "[19]\tvalidation_0-logloss:0.06376\tvalidation_1-logloss:0.27298\n",
            "[20]\tvalidation_0-logloss:0.05900\tvalidation_1-logloss:0.27030\n",
            "[21]\tvalidation_0-logloss:0.05483\tvalidation_1-logloss:0.26467\n",
            "[22]\tvalidation_0-logloss:0.05115\tvalidation_1-logloss:0.26722\n",
            "[23]\tvalidation_0-logloss:0.04855\tvalidation_1-logloss:0.26117\n",
            "[24]\tvalidation_0-logloss:0.04630\tvalidation_1-logloss:0.26024\n",
            "[25]\tvalidation_0-logloss:0.04365\tvalidation_1-logloss:0.26456\n",
            "[26]\tvalidation_0-logloss:0.04105\tvalidation_1-logloss:0.26599\n",
            "[27]\tvalidation_0-logloss:0.03936\tvalidation_1-logloss:0.26629\n",
            "[28]\tvalidation_0-logloss:0.03716\tvalidation_1-logloss:0.27067\n",
            "[29]\tvalidation_0-logloss:0.03521\tvalidation_1-logloss:0.26713\n",
            "[30]\tvalidation_0-logloss:0.03347\tvalidation_1-logloss:0.26820\n",
            "[31]\tvalidation_0-logloss:0.03219\tvalidation_1-logloss:0.26912\n",
            "[32]\tvalidation_0-logloss:0.03091\tvalidation_1-logloss:0.26841\n",
            "[33]\tvalidation_0-logloss:0.02956\tvalidation_1-logloss:0.27270\n",
            "[34]\tvalidation_0-logloss:0.02873\tvalidation_1-logloss:0.27204\n",
            "[35]\tvalidation_0-logloss:0.02796\tvalidation_1-logloss:0.27389\n",
            "[36]\tvalidation_0-logloss:0.02732\tvalidation_1-logloss:0.27463\n",
            "[37]\tvalidation_0-logloss:0.02668\tvalidation_1-logloss:0.27186\n",
            "[38]\tvalidation_0-logloss:0.02604\tvalidation_1-logloss:0.27278\n",
            "[39]\tvalidation_0-logloss:0.02552\tvalidation_1-logloss:0.27527\n",
            "[40]\tvalidation_0-logloss:0.02481\tvalidation_1-logloss:0.27140\n",
            "[41]\tvalidation_0-logloss:0.02426\tvalidation_1-logloss:0.27243\n",
            "[42]\tvalidation_0-logloss:0.02377\tvalidation_1-logloss:0.27126\n",
            "[43]\tvalidation_0-logloss:0.02352\tvalidation_1-logloss:0.26914\n",
            "[44]\tvalidation_0-logloss:0.02304\tvalidation_1-logloss:0.27011\n",
            "[45]\tvalidation_0-logloss:0.02281\tvalidation_1-logloss:0.27312\n",
            "[46]\tvalidation_0-logloss:0.02226\tvalidation_1-logloss:0.27251\n",
            "[47]\tvalidation_0-logloss:0.02182\tvalidation_1-logloss:0.27348\n",
            "[48]\tvalidation_0-logloss:0.02165\tvalidation_1-logloss:0.27169\n",
            "[49]\tvalidation_0-logloss:0.02147\tvalidation_1-logloss:0.27391\n",
            "[50]\tvalidation_0-logloss:0.02129\tvalidation_1-logloss:0.27328\n",
            "[51]\tvalidation_0-logloss:0.02086\tvalidation_1-logloss:0.27040\n",
            "[52]\tvalidation_0-logloss:0.02071\tvalidation_1-logloss:0.26869\n",
            "[53]\tvalidation_0-logloss:0.02055\tvalidation_1-logloss:0.27083\n",
            "[54]\tvalidation_0-logloss:0.02040\tvalidation_1-logloss:0.27105\n",
            "[55]\tvalidation_0-logloss:0.02026\tvalidation_1-logloss:0.27354\n",
            "[56]\tvalidation_0-logloss:0.02013\tvalidation_1-logloss:0.27299\n",
            "[57]\tvalidation_0-logloss:0.02000\tvalidation_1-logloss:0.27293\n",
            "[58]\tvalidation_0-logloss:0.01986\tvalidation_1-logloss:0.27131\n",
            "[59]\tvalidation_0-logloss:0.01972\tvalidation_1-logloss:0.27341\n",
            "[60]\tvalidation_0-logloss:0.01960\tvalidation_1-logloss:0.27364\n",
            "[61]\tvalidation_0-logloss:0.01948\tvalidation_1-logloss:0.27206\n",
            "[62]\tvalidation_0-logloss:0.01935\tvalidation_1-logloss:0.27347\n",
            "[63]\tvalidation_0-logloss:0.01923\tvalidation_1-logloss:0.27544\n",
            "[64]\tvalidation_0-logloss:0.01912\tvalidation_1-logloss:0.27390\n",
            "[65]\tvalidation_0-logloss:0.01900\tvalidation_1-logloss:0.27140\n",
            "[66]\tvalidation_0-logloss:0.01889\tvalidation_1-logloss:0.27092\n",
            "[67]\tvalidation_0-logloss:0.01878\tvalidation_1-logloss:0.27285\n",
            "[68]\tvalidation_0-logloss:0.01867\tvalidation_1-logloss:0.27140\n",
            "[69]\tvalidation_0-logloss:0.01857\tvalidation_1-logloss:0.27161\n",
            "[70]\tvalidation_0-logloss:0.01847\tvalidation_1-logloss:0.27348\n",
            "[71]\tvalidation_0-logloss:0.01837\tvalidation_1-logloss:0.27204\n",
            "[72]\tvalidation_0-logloss:0.01827\tvalidation_1-logloss:0.27280\n",
            "[73]\tvalidation_0-logloss:0.01817\tvalidation_1-logloss:0.27014\n",
            "[74]\tvalidation_0-logloss:0.01807\tvalidation_1-logloss:0.27143\n",
            "오차 행렬\n",
            "[[34  3]\n",
            " [ 2 75]]\n",
            "정확도: 0.9561, 정밀도: 0.9615, 재현율: 0.9740, F1:0.9677, AUC: 0.9895\n"
          ]
        }
      ]
    },
    {
      "cell_type": "code",
      "source": [],
      "metadata": {
        "id": "0KbtdQazhycg"
      },
      "execution_count": null,
      "outputs": []
    }
  ]
}