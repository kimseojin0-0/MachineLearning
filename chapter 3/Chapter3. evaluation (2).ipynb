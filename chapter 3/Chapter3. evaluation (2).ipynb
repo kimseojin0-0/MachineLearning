{
 "cells": [
  {
   "cell_type": "markdown",
   "id": "98701f84",
   "metadata": {},
   "source": [
    "## 오차행렬 confustion matrix\n",
    "\n",
    "\n",
    "- 오차행렬: 학습된 분류 모델이 예측을 수행하면서 얼마나 헷갈리고 있는지도 함께 보여주는 지표. 이진 분류의 예측 오류가 얼마인지와 더불어 어떤 유형의 예측 오류가 발생하는지 나타냄\n",
    "\n",
    "\n",
    "- 예측 클래스와 실제 클래스의 값 유형에 따라 결정되는 TN, FP, FN, TP 형태로 오차 행렬의 4분면을 채움\n",
    "\n",
    "\n",
    "- TN, FP, FN, TP는 Positive 결정값(1)과 Negative 결정값(0)의 결합에 따라 결정됨\n",
    "\n",
    "\n",
    "- sklearn은 confusion_matrix()를 제공"
   ]
  },
  {
   "cell_type": "markdown",
   "id": "784d70fc",
   "metadata": {},
   "source": [
    "#### 앞에서 사용한 MyFakeClassifier의 예측 성능 지표를 오차행렬로 표현하기"
   ]
  },
  {
   "cell_type": "code",
   "execution_count": 1,
   "id": "27d04be2",
   "metadata": {},
   "outputs": [],
   "source": [
    "from sklearn.datasets import load_digits\n",
    "from sklearn.model_selection import train_test_split\n",
    "from sklearn.base import BaseEstimator\n",
    "from sklearn.metrics import accuracy_score\n",
    "import numpy as np\n",
    "import pandas as pd\n",
    "\n",
    "class MyFakeClassifier(BaseEstimator):\n",
    "    def fit(self, X, y):\n",
    "        pass\n",
    "    def predict(self, X):\n",
    "        return np.zeros( (len(X), 1), dtype=bool)\n",
    "    \n",
    "digits = load_digits()\n",
    "\n",
    "y = (digits.target == 7).astype(int)\n",
    "X_train, X_test, y_train, y_test = train_test_split( digits.data, y, random_state=11)"
   ]
  },
  {
   "cell_type": "code",
   "execution_count": 2,
   "id": "a46f3ac4",
   "metadata": {},
   "outputs": [
    {
     "name": "stdout",
     "output_type": "stream",
     "text": [
      "레이블 세트 크기: (450,)\n",
      "테스트 세트 레이블 0과 1의 분포도\n",
      "0    405\n",
      "1     45\n",
      "dtype: int64\n",
      "모든 예측을 0으로 하여도 정확도는: {0:.3f} 0.9\n"
     ]
    }
   ],
   "source": [
    "print('레이블 세트 크기:', y_test.shape)\n",
    "print('테스트 세트 레이블 0과 1의 분포도')\n",
    "print(pd.Series(y_test).value_counts())\n",
    "\n",
    "fakeclf = MyFakeClassifier()\n",
    "fakeclf.fit(X_train, y_train)\n",
    "fakepred = fakeclf.predict(X_test)\n",
    "print('모든 예측을 0으로 하여도 정확도는: {0:.3f}',format(accuracy_score(y_test, fakepred)))"
   ]
  },
  {
   "cell_type": "code",
   "execution_count": 4,
   "id": "41f0e39d",
   "metadata": {},
   "outputs": [
    {
     "data": {
      "text/plain": [
       "array([[405,   0],\n",
       "       [ 45,   0]], dtype=int64)"
      ]
     },
     "execution_count": 4,
     "metadata": {},
     "output_type": "execute_result"
    }
   ],
   "source": [
    "from sklearn.metrics import confusion_matrix\n",
    "\n",
    "confusion_matrix(y_test, fakepred)"
   ]
  },
  {
   "cell_type": "markdown",
   "id": "1a2c29b6",
   "metadata": {},
   "source": [
    "- 오차 행렬은 ndarray 형태임(TN은 [0,0]으로 405, FP는 [0,1]로 0, FN는 [1,0]으로 45, TP는 [1,1]로 0)\n",
    "\n",
    "\n",
    "- TN은 전체 450건 데이터 중 무조건 Negative 0으로 예측해서 True가 된 결과, 405건\n",
    "\n",
    "\n",
    "- FP는 Positive 1으로 예측한 건수가 없어서 0건\n",
    "\n",
    "\n",
    "- FN은 Positive 1인 건수 45건을 Negative로 예측해서 False가 된 결과 45건\n",
    "\n",
    "\n",
    "- TP는 Positive 1로 예측한 건수가 없어서 0건\n",
    "\n",
    "\n",
    "- 이 값들을 조합해 Classifier의 성능을 예측할 수 있는 주요 지표인 정확도, 정밀도, 재현율 값을 알 수 있음"
   ]
  },
  {
   "cell_type": "markdown",
   "id": "6ace8535",
   "metadata": {},
   "source": [
    "##### 정확도 = 예측 결과와 실제 값이 동일한 건수/전체 데이터 수 = (TN + TP)/(TN + FP + FN + TP)\n",
    "\n",
    "\n",
    "- ex) 사기 예측 모델에서는 사기 행위가 Positive(양성)으로 1, 정상 행위가 Negative(음성)으로 0이 결정값으로 할당\n",
    "\n",
    "\n",
    "\n",
    "\n",
    "\n",
    "* 불균형한 이진 분류 데이터셋에서는 Positive 데이터 건수가 매우 작기 때문에 데이터에 기반한 ML 알고리즘은 Negative로 예측 정확도가 높아지는 경향이 발생"
   ]
  },
  {
   "cell_type": "code",
   "execution_count": null,
   "id": "b45ef8dd",
   "metadata": {},
   "outputs": [],
   "source": []
  }
 ],
 "metadata": {
  "kernelspec": {
   "display_name": "Python 3 (ipykernel)",
   "language": "python",
   "name": "python3"
  },
  "language_info": {
   "codemirror_mode": {
    "name": "ipython",
    "version": 3
   },
   "file_extension": ".py",
   "mimetype": "text/x-python",
   "name": "python",
   "nbconvert_exporter": "python",
   "pygments_lexer": "ipython3",
   "version": "3.10.9"
  }
 },
 "nbformat": 4,
 "nbformat_minor": 5
}
