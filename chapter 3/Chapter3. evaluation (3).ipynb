{
 "cells": [
  {
   "cell_type": "markdown",
   "id": "c9a29425",
   "metadata": {},
   "source": [
    "## 정밀도와 재현율 Precision and Recall\n",
    "\n",
    "\n",
    "- 정밀도와 재현율은 Positive 데이터셋의 예측 성능에 초점을 맞춘 평가 지표\n",
    "\n",
    "\n",
    "##### 정밀도 = TP / (FP + TP) \n",
    "\n",
    "* 예측을 Positive로 한 대상 중에 예측과 실제값이 Positive로 일치한 데이터의 비율\n",
    "\n",
    "##### 재현율(민감도) = TP / (FN + TP)\n",
    "\n",
    "* 실제값이 Positive인 대상 중에 예측과 실제값이 Positive로 일치한 데이터의 비율\n"
   ]
  },
  {
   "cell_type": "code",
   "execution_count": null,
   "id": "4c6b1e09",
   "metadata": {},
   "outputs": [],
   "source": []
  }
 ],
 "metadata": {
  "kernelspec": {
   "display_name": "Python 3 (ipykernel)",
   "language": "python",
   "name": "python3"
  },
  "language_info": {
   "codemirror_mode": {
    "name": "ipython",
    "version": 3
   },
   "file_extension": ".py",
   "mimetype": "text/x-python",
   "name": "python",
   "nbconvert_exporter": "python",
   "pygments_lexer": "ipython3",
   "version": "3.10.9"
  }
 },
 "nbformat": 4,
 "nbformat_minor": 5
}
